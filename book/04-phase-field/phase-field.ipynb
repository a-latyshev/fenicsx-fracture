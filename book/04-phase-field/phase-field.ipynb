{
 "cells": [
  {
   "cell_type": "markdown",
   "metadata": {
    "id": "o1rOnnKOer2R"
   },
   "source": [
    "# Gradient damage as phase-field models of brittle fracture: dolfinx example\n",
    "\n",
    "*Authors: Jack Hale, Corrado Maurini, 2021*\n",
    "\n",
    "In this notebook we implement a numerical solution of the quasi-static evolution problem for gradient damage models, and show how they can be used to solve brittle fracture problems.\n",
    "\n",
    "Denoting by $u$ the displacement field (vector valued) and by $\\alpha$ the scalar damage field we consider the energy functional\n",
    "\n",
    "$$\n",
    "\\mathcal{E}_{\\ell}(u, \\alpha)=\n",
    "\\dfrac{1}{2}\\int_{\\Omega} a({\\alpha})\n",
    "A_0\\,\\epsilon(u)\\cdot\\epsilon(u)\\,dx\n",
    "+\n",
    " \\,\n",
    "\\dfrac{G_c}{c_w} \\int_{\\Omega}\\left(\n",
    "\\dfrac{w(\\alpha)}{\\ell}+\n",
    "{\\ell}\\,\\nabla {\\alpha}\\cdot\\nabla{\\alpha}\\right)dx,\n",
    "$$\n",
    "\n",
    "where $\\epsilon(u)$ is the strain tensor, $\\sigma_0(u)=A_0\\,\\epsilon(u)$ the stress of the undamaged material, $a({\\alpha})$  the stiffness modulation function though the damage field, $w_1\\,w(\\alpha)$ the energy dissipation in an homogeouns process and $\\ell$ the internal length.\n",
    "\n",
    "In the following we will solve, at each time step $t_i$ the minimization problem \n",
    "\n",
    "$$\n",
    "\\min\\mathcal{E}_{\\ell}(u, \\alpha),\\quad u\\in\\mathcal{C}_i, \\alpha\\in \\mathcal{D}_i,\n",
    "$$\n",
    "\n",
    "where $\\mathcal{C}_i$ is the space of kinematically admissible displacement at \n",
    "time $t_i$ and $\\mathcal{D}_i$ the admissible damage fields, that should respect the irreversibility conditions \n",
    "$\\alpha\\geq\\alpha_{i-1}$. \n",
    "\n",
    "Here we will\n",
    " * Discretize the problme using $P_1$ finite elements for the displacement and the damage field\n",
    " * Use alternate minimization to solve the minimization problem at each time step\n",
    " * Use PETSc solver to solve linear problems and variational inequality at discrete level\n",
    " "
   ]
  },
  {
   "cell_type": "markdown",
   "metadata": {
    "id": "pnn3YykUer2S"
   },
   "source": [
    "We will consider here the specific problem of the **traction of a two-dimensional bar in plane-stress**, where\n",
    "$\n",
    "\\Omega =[0,L]\\times[0,H]\n",
    "$ and the loading is given by \n",
    "under imposed end-displacement $u=(t,0)$ in $x=L$, the left-end being clamped : $u=(0,0)$ in $x=0$. \n",
    "\n",
    "You can find further informations about this model here:\n",
    "- Marigo, J.-J., Maurini, C., & Pham, K. (2016). An overview of the modelling of fracture by gradient damage models. Meccanica, 1–22. https://doi.org/10.1007/s11012-016-0538-4 "
   ]
  },
  {
   "cell_type": "markdown",
   "metadata": {
    "id": "XdKu5cCBer2U"
   },
   "source": [
    "## Preamble \n",
    "\n",
    "Here we import the required Python modules and set few parameters.\n",
    "\n",
    "The FEniCS container does not have the `sympy` module by default so we install it using pip."
   ]
  },
  {
   "cell_type": "code",
   "execution_count": null,
   "metadata": {
    "id": "XdKu5cCBer2U"
   },
   "outputs": [],
   "source": [
    "!pip3 install sympy"
   ]
  },
  {
   "cell_type": "code",
   "execution_count": null,
   "metadata": {
    "id": "gVc2omtmfLF6"
   },
   "outputs": [],
   "source": [
    "import matplotlib.pyplot as plt\n",
    "import numpy as np\n",
    "\n",
    "import dolfinx\n",
    "import dolfinx.plot\n",
    "import ufl\n",
    "\n",
    "from mpi4py import MPI\n",
    "from petsc4py import PETSc\n",
    "\n",
    "from mesh_rectangle import generate_mesh\n",
    "import pyvista\n",
    "from pyvista.utilities.xvfb import start_xvfb\n",
    "start_xvfb(wait=0.0)\n",
    "\n",
    "import sys\n",
    "sys.path.append(\"../python/\")\n",
    "from snes_problem import SNESProblem\n",
    "\n",
    "from plots import plot_damage_state"
   ]
  },
  {
   "cell_type": "markdown",
   "metadata": {
    "id": "k78eeo7yer2Z"
   },
   "source": [
    "## Mesh \n",
    "\n",
    "We define here the mesh and the indicators for the boundary conditions. The function `generate_mesh` uses `gmsh` (https://gmsh.info/)."
   ]
  },
  {
   "cell_type": "code",
   "execution_count": null,
   "metadata": {
    "id": "S_mNubT0er2a"
   },
   "outputs": [],
   "source": [
    "L = 1.; H = 0.3;\n",
    "ell_ = 0.1\n",
    "cell_size = ell_/6;\n",
    "\n",
    "nx = int(L/cell_size)\n",
    "ny = int(H/cell_size)\n",
    "\n",
    "mesh = dolfinx.RectangleMesh(MPI.COMM_WORLD, [(0.0, 0.0, 0.0), (L, H, 0.0)], [nx, ny])\n",
    "\n",
    "\n",
    "ndim = mesh.geometry.dim\n",
    "\n",
    "\n",
    "pyvista.OFF_SCREEN \n",
    "topology, cell_types = dolfinx.plot.create_vtk_topology(mesh, mesh.topology.dim)\n",
    "grid = pyvista.UnstructuredGrid(topology, cell_types, mesh.geometry.x)\n",
    "plotter = pyvista.Plotter()\n",
    "plotter.add_mesh(grid, show_edges=True, show_scalar_bar=True)\n",
    "plotter.view_xy()\n",
    "plotter.add_axes()\n",
    "plotter.set_scale(5,5)\n",
    "#plotter.reset_camera(render=True, bounds=(-L/2, L/2, -H/2, H/2, 0, 0))\n",
    "if not pyvista.OFF_SCREEN:\n",
    "    plotter.show()\n",
    "\n",
    "from pathlib import Path\n",
    "Path(\"output\").mkdir(parents=True, exist_ok=True)\n",
    "figure = plotter.screenshot(\"output/mesh.png\")\n",
    "\n"
   ]
  },
  {
   "cell_type": "markdown",
   "metadata": {},
   "source": [
    "## Setting the stage\n",
    "\n",
    "Setting the finite element space, the state vector, test/trial functions and measures.\n",
    "\n",
    "We use $P_1$ finite element (triangle with linear Lagrange polynomial as shape functions and nodal values as dofs) for both displacement and damage. "
   ]
  },
  {
   "cell_type": "code",
   "execution_count": null,
   "metadata": {},
   "outputs": [],
   "source": [
    "element_u = ufl.VectorElement('Lagrange',mesh.ufl_cell(),degree=1,dim=2)\n",
    "V_u = dolfinx.FunctionSpace(mesh, element_u)\n",
    "\n",
    "element_alpha = ufl.FiniteElement('Lagrange',mesh.ufl_cell(),degree=1)\n",
    "V_alpha = dolfinx.FunctionSpace(mesh, element_alpha)\n",
    "\n",
    "# Define the state\n",
    "u = dolfinx.Function(V_u, name=\"Displacement\")\n",
    "alpha = dolfinx.Function(V_alpha, name=\"Damage\")\n",
    "\n",
    "state = {\"u\": u, \"alpha\": alpha}\n",
    "\n",
    "# need upper/lower bound for the damage field\n",
    "alpha_lb = dolfinx.Function(V_alpha, name=\"Lower bound\")\n",
    "alpha_ub = dolfinx.Function(V_alpha, name=\"Upper bound\")\n",
    "\n",
    "# Measures\n",
    "dx = ufl.Measure(\"dx\",domain=mesh)\n",
    "ds = ufl.Measure(\"ds\",domain=mesh)"
   ]
  },
  {
   "cell_type": "markdown",
   "metadata": {
    "id": "mEWA9qYuer2e"
   },
   "source": [
    "### Boundary conditions\n",
    "We impose the boundary conditions on the displacement and the damage field. "
   ]
  },
  {
   "cell_type": "code",
   "execution_count": null,
   "metadata": {},
   "outputs": [],
   "source": [
    "def bottom(x):\n",
    "    return np.isclose(x[1], 0.0)\n",
    "\n",
    "def right(x):\n",
    "    return np.isclose(x[0], L)\n",
    "\n",
    "def top(x):\n",
    "    return np.isclose(x[1], H)\n",
    "\n",
    "def left(x):\n",
    "    return np.isclose(x[0], 0.0)\n",
    "\n",
    "blocked_dofs_left_u = dolfinx.fem.locate_dofs_geometrical((V_u.sub(0), V_u.sub(0).collapse()), left)\n",
    "blocked_dofs_right_u = dolfinx.fem.locate_dofs_geometrical((V_u.sub(0), V_u.sub(0).collapse()), right)\n",
    "blocked_dofs_bottom_u = dolfinx.fem.locate_dofs_geometrical((V_u.sub(1), V_u.sub(1).collapse()), bottom)\n",
    "blocked_dofs_left_alpha = dolfinx.fem.locate_dofs_geometrical(V_alpha, left)\n",
    "blocked_dofs_right_alpha = dolfinx.fem.locate_dofs_geometrical(V_alpha, right)\n",
    "\n",
    "zero_u = dolfinx.Function(V_u.sub(0).collapse())\n",
    "\n",
    "with zero_u.vector.localForm() as bc_local:\n",
    "    bc_local.set(0.0)\n",
    "\n",
    "nonzero_u = dolfinx.Function(V_u.sub(0).collapse())\n",
    "with nonzero_u.vector.localForm() as bc_local:\n",
    "    bc_local.set(1.0)\n",
    "    \n",
    "one_alpha = dolfinx.Function(V_alpha)\n",
    "with one_alpha.vector.localForm() as bc_local:\n",
    "    bc_local.set(1.0)\n",
    "                 \n",
    "zero_alpha = dolfinx.Function(V_alpha)\n",
    "with zero_alpha.vector.localForm() as bc_local:\n",
    "    bc_local.set(0.0)\n",
    "\n",
    "\n",
    "bc_u0 = dolfinx.DirichletBC(zero_u, blocked_dofs_left_u, V_u.sub(1))\n",
    "bc_u1 = dolfinx.DirichletBC(nonzero_u, blocked_dofs_right_u, V_u.sub(1))\n",
    "bc_u2 = dolfinx.DirichletBC(zero_u, blocked_dofs_bottom_u, V_u.sub(0))\n",
    "\n",
    "bc_alpha0 = dolfinx.DirichletBC(zero_alpha, blocked_dofs_left_alpha)\n",
    "bc_alpha1 = dolfinx.DirichletBC(zero_alpha, blocked_dofs_right_alpha)\n",
    "\n",
    "bcs_u = [bc_u0,bc_u1,bc_u2]\n",
    "bcs_alpha = [bc_alpha0,bc_alpha1]\n",
    "\n",
    "# setting the upper bound to 0 where BCs are applied\n",
    "alpha_ub.interpolate(one_alpha)\n",
    "dolfinx.fem.set_bc(alpha_ub.vector, bcs_alpha)\n"
   ]
  },
  {
   "cell_type": "markdown",
   "metadata": {
    "id": "glu29jUver2j"
   },
   "source": [
    "## Variational formulation of the problem"
   ]
  },
  {
   "cell_type": "markdown",
   "metadata": {
    "id": "IELp_KKger2j"
   },
   "source": [
    "### Constitutive functions\n",
    "\n",
    "We define here the constitutive functions and the related parameters. \n",
    "These functions will be used to define the energy. You can try to change them, the code is sufficiently generic to allows for a wide class of function $w$ and $a$.\n",
    "\n",
    "**Exercice:** Show by dimensional analysis that varying $G_c$ and $E$ is equivalent to a rescaling of the displacement by a factor \n",
    "\n",
    "$$\n",
    "u_0 = \\sqrt{\\frac{G_c L}{E}}\n",
    "$$\n",
    "\n",
    "We can then choose these constants freely in the numerical work and simply rescale the displacement to match the material data of a specific brittle material. \n",
    "The *real* material parameters (in the sense that they are those that affect the results) are   \n",
    "- the Poisson ratio $\\nu$ and \n",
    "- the ratio $\\ell/L$ between internal length $\\ell$ and the domain size $L$. "
   ]
  },
  {
   "cell_type": "code",
   "execution_count": null,
   "metadata": {
    "id": "mNpej74per2k"
   },
   "outputs": [],
   "source": [
    "E, nu = dolfinx.Constant(mesh, 100.0), dolfinx.Constant(mesh, 0.3)\n",
    "Gc = dolfinx.Constant(mesh, 1.0)\n",
    "ell = dolfinx.Constant(mesh, ell_)\n",
    "\n",
    "def w(alpha):\n",
    "    \"\"\"Dissipated energy function as a function of the damage \"\"\"\n",
    "    return alpha\n",
    "\n",
    "def a(alpha, k_ell=1.e-6):\n",
    "    \"\"\"Stiffness modulation as a function of the damage \"\"\"\n",
    "    return (1 - alpha) ** 2 + k_ell\n",
    "\n",
    "def eps(u):\n",
    "    \"\"\"Strain tensor as a function of the displacement\"\"\"\n",
    "    return ufl.sym(ufl.grad(u))\n",
    "\n",
    "def sigma_0(u):\n",
    "    \"\"\"Stress tensor of the undamaged material as a function of the displacement\"\"\"\n",
    "    mu    = E / (2.0 * (1.0 + nu))\n",
    "    lmbda = E * nu / (1.0 - nu ** 2)\n",
    "    return 2.0 * mu * eps(u) + lmbda * ufl.tr(eps(u)) * ufl.Identity(ndim)\n",
    "\n",
    "def sigma(u,alpha):\n",
    "    \"\"\"Stress tensor of the damaged material as a function of the displacement and the damage\"\"\"\n",
    "    return a(alpha) * sigma_0(u)\n"
   ]
  },
  {
   "cell_type": "markdown",
   "metadata": {
    "id": "JHfoqDbLer2n"
   },
   "source": [
    "**Exercise:** Show that \n",
    "1. One can relate the dissipation constant $w_1$ to the energy dissipated in a smeared representation of a crack through the following relation:\n",
    "\\begin{equation}\n",
    "{G_c}={c_w}\\,w_1\\ell,\\qquad c_w =4\\int_0^1\\sqrt{w(\\alpha)}d\\alpha\n",
    "\\end{equation}\n",
    "2. The half-width of a localisation zone is given by:\n",
    "$$\n",
    "D =  c_{1/w} \\ell,\\qquad c_{1/w}=\\int_0^1 \\frac{1}{\\sqrt{w(\\alpha)}}d\\alpha\n",
    "$$\n",
    "3. The elastic limit of the material is:\n",
    "$$\n",
    "\\sigma_c = \\sqrt{w_1\\,E_0}\\sqrt{\\dfrac{2w'(0)}{s'(0)}}= \\sqrt{\\dfrac{G_cE_0}{\\ell c_w}}\n",
    "\\sqrt{\\dfrac{2w'(0)}{s'(0)}}\n",
    "$$\n",
    "*Hint:* Calculate the damage profile and the energy of a localised solution with vanishing stress in a 1d traction problem\n",
    "\n",
    "For the function above we get (we perform the integral with `sympy`)."
   ]
  },
  {
   "cell_type": "code",
   "execution_count": null,
   "metadata": {
    "id": "ICvBNgFper2n"
   },
   "outputs": [],
   "source": [
    "import sympy \n",
    "z = sympy.Symbol(\"z\")\n",
    "c_w = 4*sympy.integrate(sympy.sqrt(w(z)),(z,0,1))\n",
    "print(\"c_w = \",c_w)\n",
    "\n",
    "c_1w = sympy.integrate(sympy.sqrt(1/w(z)),(z,0,1))\n",
    "print(\"c_1/w = \",c_1w)\n",
    "\n",
    "tmp = 2*(sympy.diff(w(z),z)/sympy.diff(1/a(z),z)).subs({\"z\":0})\n",
    "sigma_c = sympy.sqrt(tmp * Gc.value * E.value / (c_w * ell.value))\n",
    "print(\"sigma_c = %2.3f\"%sigma_c)\n",
    "\n",
    "eps_c = float(sigma_c/E.value)\n",
    "print(\"eps_c = %2.3f\"%eps_c)"
   ]
  },
  {
   "cell_type": "markdown",
   "metadata": {
    "id": "bZqaI6gYer2t"
   },
   "source": [
    "### Energy functional and its derivatives\n",
    "\n",
    "We use the `UFL` \n",
    " component of FEniCS to define the energy functional.\n",
    "Directional derivatives of the energy are computed using symbolic computation functionalities of `UFL`, see http://fenics-ufl.readthedocs.io/en/latest/"
   ]
  },
  {
   "cell_type": "code",
   "execution_count": null,
   "metadata": {
    "id": "Gc6yeO54er2u"
   },
   "outputs": [],
   "source": [
    "f = dolfinx.Constant(mesh,(0,0))\n",
    "elastic_energy = 0.5 * ufl.inner(sigma(u,alpha), eps(u)) * dx \n",
    "dissipated_energy = Gc / float(c_w) * (w(alpha) / ell + ell * ufl.dot(ufl.grad(alpha), ufl.grad(alpha))) * dx\n",
    "external_work = ufl.dot(f, u) * dx \n",
    "total_energy = elastic_energy + dissipated_energy - external_work"
   ]
  },
  {
   "cell_type": "markdown",
   "metadata": {
    "id": "5trh5kFJer2x"
   },
   "source": [
    "## Solvers"
   ]
  },
  {
   "cell_type": "markdown",
   "metadata": {
    "id": "HOXVWrWMer2x"
   },
   "source": [
    "### Displacement problem\n",
    "The $u$-problem at fixed $\\alpha$ is a linear problem corresponding with linear elasticity. We solve it with a standard linear solver. We use automatic differention to get the first derivative of the energy. We use a direct solve to solve the linear system, but you can also easily set iterative solvers and preconditioners when solving large problem in parallel."
   ]
  },
  {
   "cell_type": "code",
   "execution_count": null,
   "metadata": {},
   "outputs": [],
   "source": [
    "E_u = ufl.derivative(total_energy,u,ufl.TestFunction(V_u))\n",
    "E_du = ufl.replace(E_u,{u: ufl.TrialFunction(V_u)})\n",
    "\n",
    "problem_u = dolfinx.fem.LinearProblem(a=ufl.lhs(E_du), L=ufl.rhs(E_du), bcs=bcs_u, u=u,\n",
    "                                      petsc_options={\"ksp_type\": \"preonly\", \"pc_type\": \"lu\"})\n",
    "\n",
    "problem_u.solve()"
   ]
  },
  {
   "cell_type": "markdown",
   "metadata": {},
   "source": [
    "We test below the solution of the elasticity problem"
   ]
  },
  {
   "cell_type": "code",
   "execution_count": null,
   "metadata": {},
   "outputs": [],
   "source": [
    "load = .6\n",
    "with nonzero_u.vector.localForm() as bc_local:\n",
    "        bc_local.set(load) \n",
    "        \n",
    "problem_u.solve()\n",
    "\n",
    "plot_damage_state(state,load=load)"
   ]
  },
  {
   "cell_type": "markdown",
   "metadata": {
    "id": "yETlzbzzer2z"
   },
   "source": [
    "### Damage problem with bound-constraints\n",
    "\n",
    "The $\\alpha$-problem at fixed $u$ is a variational inequality, because of the irreversibility constraint. We solve it using a specific solver for bound-constrained provided by `PETSC`, called `SNESVI`. To this end we define with a specific syntax a class defining the problem, and the lower (`lb`) and upper (`ub`) bounds. "
   ]
  },
  {
   "cell_type": "markdown",
   "metadata": {},
   "source": [
    "We now set up the PETSc solver using petsc4py (https://www.mcs.anl.gov/petsc/petsc-current/docs/manualpages/SNES/SNESVINEWTONRSLS.html)"
   ]
  },
  {
   "cell_type": "code",
   "execution_count": null,
   "metadata": {},
   "outputs": [],
   "source": [
    "\n",
    "E_alpha = ufl.derivative(total_energy,alpha,ufl.TestFunction(V_alpha))\n",
    "E_alpha_alpha = ufl.derivative(E_alpha,alpha,ufl.TrialFunction(V_alpha))\n",
    "\n",
    "damage_problem = SNESProblem(E_alpha, E_alpha_alpha, alpha, bcs_alpha)\n",
    "\n",
    "b = dolfinx.cpp.la.create_vector(V_alpha.dofmap.index_map, V_alpha.dofmap.index_map_bs)\n",
    "J = dolfinx.fem.create_matrix(damage_problem.a)\n",
    "\n",
    "# Create Newton solver and solve\n",
    "solver_alpha_snes = PETSc.SNES().create()\n",
    "solver_alpha_snes.setType(\"vinewtonrsls\")\n",
    "solver_alpha_snes.setFunction(damage_problem.F, b)\n",
    "solver_alpha_snes.setJacobian(damage_problem.J, J)\n",
    "solver_alpha_snes.setTolerances(rtol=1.0e-9, max_it=50)\n",
    "solver_alpha_snes.getKSP().setType(\"preonly\")\n",
    "solver_alpha_snes.getKSP().setTolerances(rtol=1.0e-9)\n",
    "solver_alpha_snes.getKSP().getPC().setType(\"lu\")\n",
    "\n",
    "# We set the bound (Note: they are passed as reference and not as values)\n",
    "solver_alpha_snes.setVariableBounds(alpha_lb.vector,alpha_ub.vector)"
   ]
  },
  {
   "cell_type": "markdown",
   "metadata": {},
   "source": [
    "Let us known test the damage solver"
   ]
  },
  {
   "cell_type": "code",
   "execution_count": null,
   "metadata": {},
   "outputs": [],
   "source": [
    "solver_alpha_snes.solve(None, alpha.vector)\n",
    "plot_damage_state(state,load=load)"
   ]
  },
  {
   "cell_type": "markdown",
   "metadata": {
    "id": "0udH0Gdfer21"
   },
   "source": [
    "### The static problem: solution with the alternate minimization algorithm\n",
    "\n",
    "We solve the nonlinear problem in $(u,\\alpha)$ at each time-step by a fixed-point algorithm consisting in alternate minimization with respect to $u$ at fixed $\\alpha$ and viceversa, *i.e.* we solve till convergence the $u$- and the $\\alpha$-problems above."
   ]
  },
  {
   "cell_type": "markdown",
   "metadata": {},
   "source": [
    "The main idea is to iterate as following solution of displacement and damage subproblem at fixed loading"
   ]
  },
  {
   "cell_type": "code",
   "execution_count": null,
   "metadata": {},
   "outputs": [],
   "source": [
    "with alpha.vector.localForm() as alpha_local:\n",
    "    alpha_local.set(0)\n",
    "\n",
    "for i in range(10):\n",
    "    print(f\"iteration {i}\")\n",
    "    problem_u.solve()\n",
    "    solver_alpha_snes.solve(None, alpha.vector)\n",
    "    plot_damage_state(state,load)"
   ]
  },
  {
   "cell_type": "markdown",
   "metadata": {},
   "source": [
    "We need to add a convergence condition for the fixed point algorithm.\n",
    "We define it the following function"
   ]
  },
  {
   "cell_type": "code",
   "execution_count": null,
   "metadata": {
    "tags": []
   },
   "outputs": [],
   "source": [
    "alt_min_parameters = {\"atol\": 1.e-8, \"max_iter\": 100}\n",
    "\n",
    "def simple_monitor(state, iteration, error_L2):\n",
    "    #if MPI.comm_world.rank == 0:\n",
    "    print(f\"Iteration: {iteration:3d}, Error: {error_L2:3.4e}\")\n",
    "    \n",
    "def alternate_minimization(state,parameters=alt_min_parameters,monitor=None):\n",
    "    \n",
    "    u = state[\"u\"]\n",
    "    alpha = state[\"alpha\"]\n",
    "    \n",
    "    alpha_old = dolfinx.Function(alpha.function_space)\n",
    "    alpha.vector.copy(alpha_old.vector)\n",
    "    \n",
    "    for iteration in range(parameters[\"max_iter\"]):\n",
    "                              \n",
    "        # solve displacement\n",
    "        problem_u.solve()\n",
    "        \n",
    "        # solve damage\n",
    "        solver_alpha_snes.solve(None, alpha.vector)\n",
    "        \n",
    "        # check error and update\n",
    "        L2_error = ufl.inner(alpha - alpha_old, alpha - alpha_old) * dx\n",
    "        error_L2 = np.sqrt(dolfinx.fem.assemble_scalar(L2_error))\n",
    "        alpha.vector.copy(alpha_old.vector)\n",
    "        \n",
    "        if monitor is not None:\n",
    "            monitor(state, iteration, error_L2)\n",
    "                                 \n",
    "        if error_L2 <= parameters[\"atol\"]:\n",
    "            break\n",
    "    else:\n",
    "        pass #raise RuntimeError(f\"Could not converge after {iteration:3d} iteration, error {error_L2:3.4e}\") \n",
    "    \n",
    "    return (error_L2, iteration)"
   ]
  },
  {
   "cell_type": "markdown",
   "metadata": {},
   "source": [
    "We can test it by solving the problem at fixed problem. We need to reset to zeror the damage field to start"
   ]
  },
  {
   "cell_type": "code",
   "execution_count": null,
   "metadata": {},
   "outputs": [],
   "source": [
    "with alpha.vector.localForm() as alpha_local:\n",
    "    alpha_local.set(0)\n",
    "    \n",
    "alternate_minimization(state,parameters=alt_min_parameters,monitor=simple_monitor)\n",
    "plot_damage_state(state, load=load)"
   ]
  },
  {
   "cell_type": "markdown",
   "metadata": {},
   "source": [
    "## Time-stepping: solving a quasi-static problem"
   ]
  },
  {
   "cell_type": "code",
   "execution_count": null,
   "metadata": {},
   "outputs": [],
   "source": [
    "def postprocessing(state, iteration, error_L2):\n",
    "    \n",
    "    # Save number of iterations for the time step\n",
    "    iterations[i_t] = np.array([t,i_t])\n",
    "    \n",
    "    # Calculate the energies\n",
    "    elastic_energy_value = dolfinx.fem.assemble_scalar(elastic_energy)\n",
    "    surface_energy_value = dolfinx.fem.assemble_scalar(dissipated_energy)\n",
    "    energies[i_t] = np.array([t,elastic_energy_value,surface_energy_value,elastic_energy_value+surface_energy_value])\n",
    "    \n",
    "    simple_monitor(state, iteration, error_L2)\n",
    "\n",
    "    "
   ]
  },
  {
   "cell_type": "code",
   "execution_count": null,
   "metadata": {},
   "outputs": [],
   "source": [
    "load0 = float(eps_c)*L # reference value for the loading (imposed displacement)\n",
    "loads = load0*np.linspace(0,1.5,20)\n",
    "\n",
    "energies = np.zeros((len(loads),4))\n",
    "iterations = np.zeros((len(loads),2))\n",
    "\n",
    "alt_min_parameters = {\"atol\": 1.e-6,\"max_iter\": 100}\n",
    "\n",
    "with alpha.vector.localForm() as alpha_local:\n",
    "    alpha_local.set(0)\n",
    "\n",
    "for i_t, t in enumerate(loads):\n",
    "    with nonzero_u.vector.localForm() as bc_local:\n",
    "        bc_local.set(t) \n",
    "        \n",
    "    # update the lower bound\n",
    "    alpha.vector.copy(alpha_lb.vector)    \n",
    "    print(f\"-- Solving for t = {t:3.2f} --\")\n",
    "    alternate_minimization(state,parameters=alt_min_parameters,monitor=postprocessing)\n",
    "    plot_damage_state(state)"
   ]
  },
  {
   "cell_type": "code",
   "execution_count": null,
   "metadata": {
    "id": "gySiyQlrer24"
   },
   "outputs": [],
   "source": [
    "p1, = plt.plot(energies[:,0], energies[:,1],'b*',linewidth=2)\n",
    "p2, = plt.plot(energies[:,0], energies[:,2],'r^',linewidth=2)\n",
    "p3, = plt.plot(energies[:,0], energies[:,3],'ko',linewidth=2)\n",
    "plt.legend([p1, p2, p3], [\"Elastic\",\"Dissipated\",\"Total\"])\n",
    "plt.xlabel('Displacement')\n",
    "plt.ylabel('Energies')\n",
    "\n",
    "plt.axvline(x=eps_c*L, color='grey',linestyle='--', linewidth=2)\n",
    "plt.axhline(y=H, color='grey', linestyle='--', linewidth=2)\n",
    "\n",
    "plt.savefig(f\"output/energies.png\")"
   ]
  },
  {
   "cell_type": "markdown",
   "metadata": {
    "id": "2UCtv-Yker2_"
   },
   "source": [
    "## Verification\n",
    "\n",
    "The plots above indicates that the crack appear at the elastic limit calculated analytically (see the gridlines) and that the dissipated energy coincide with the length of the crack times $G_c$. Let's check the latter explicity"
   ]
  },
  {
   "cell_type": "code",
   "execution_count": null,
   "metadata": {
    "id": "mrptael7er3A"
   },
   "outputs": [],
   "source": [
    "print(f\"The dissipated energy on a crack is {dolfinx.fem.assemble_scalar(dissipated_energy):.3f}\")\n",
    "print(f\"The expeceted value is {H:f}\")"
   ]
  },
  {
   "cell_type": "markdown",
   "metadata": {
    "id": "C-jo1UDHer3B"
   },
   "source": [
    "Let us look at the damage profile"
   ]
  },
  {
   "cell_type": "code",
   "execution_count": null,
   "metadata": {},
   "outputs": [],
   "source": [
    "from utils import evaluate_on_points\n",
    "tol = 0.001 # Avoid hitting the outside of the domain\n",
    "y = np.linspace(0 + tol, L - tol, 101)\n",
    "points = np.zeros((3, 101))\n",
    "points[0] = y\n",
    "points[1] = H/2\n",
    "\n",
    "\n",
    "fig = plt.figure()\n",
    "points_on_proc, alpha_val = evaluate_on_points(alpha, points)\n",
    "plt.plot(points_on_proc[:,0], alpha_val, \"k\", linewidth=2, label=\"Damage\")\n",
    "plt.grid(True)\n",
    "plt.xlabel(\"x\")\n",
    "plt.legend()\n",
    "\n",
    "# If run in parallel as a python file, we save a plot per processor\n",
    "plt.savefig(f\"output/damage_line_rank{MPI.COMM_WORLD.rank:d}.png\")"
   ]
  },
  {
   "cell_type": "markdown",
   "metadata": {},
   "source": [
    "## Exercises\n",
    "\n",
    "- Replace the mesh with an unstructured mesh generated with gmsh\n",
    "- Refactor `alternate_minimization` as an external function or class to put in a seperate `.py` file to import in the notebook\n",
    "- Run simulations for\n",
    "    1. A slab with an hole in the center\n",
    "    2. A slab with a V-notch"
   ]
  },
  {
   "cell_type": "code",
   "execution_count": null,
   "metadata": {},
   "outputs": [],
   "source": []
  }
 ],
 "metadata": {
  "colab": {
   "collapsed_sections": [],
   "name": "VarFrac.ipynb",
   "provenance": []
  },
  "kernelspec": {
   "display_name": "Python 3",
   "language": "python",
   "name": "python3"
  },
  "language_info": {
   "codemirror_mode": {
    "name": "ipython",
    "version": 3
   },
   "file_extension": ".py",
   "mimetype": "text/x-python",
   "name": "python",
   "nbconvert_exporter": "python",
   "pygments_lexer": "ipython3",
   "version": "3.8.5"
  }
 },
 "nbformat": 4,
 "nbformat_minor": 4
}
