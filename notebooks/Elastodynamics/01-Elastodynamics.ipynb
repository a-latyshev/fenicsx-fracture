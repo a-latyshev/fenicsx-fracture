{
 "cells": [
  {
   "attachments": {},
   "cell_type": "markdown",
   "id": "f606207a-d3b1-4b52-a769-fcb99fae78fb",
   "metadata": {
    "tags": []
   },
   "source": [
    "# THE ELASTODYAMICS PROBLEM\n",
    "\n",
    "Author: A. Chao Correas (arturo.chaocorreas@polito.it)"
   ]
  },
  {
   "attachments": {},
   "cell_type": "markdown",
   "id": "68eac7de-001f-412c-9e1e-133be8ea634b",
   "metadata": {
    "tags": []
   },
   "source": [
    "## Derivation of the weak form of the elastodynamics problem"
   ]
  },
  {
   "attachments": {},
   "cell_type": "markdown",
   "id": "b0ed733c-a651-4dc6-9a2c-ce84a4abf64e",
   "metadata": {},
   "source": [
    "Let us assume an elastodynamics problem in which a domain $\\Omega$ is subjected to:\n",
    "\n",
    "1. Time-dependent loading conditions $\\underline{\\Sigma}(t)$ (Neumann BCs) along the Neumann boundary $\\partial_{\\Sigma}{\\Omega}$.\n",
    "2. Time-dependent displacement boundary conditions $\\underline{U}(t)$ along the Dirichlet boundary $\\partial_{U}{\\Omega} = \\partial{\\Omega} \\setminus \\partial_{\\Sigma}{\\Omega}$.\n",
    "3. Time-dependent distributed body forces $\\underline{b}(t)$ in $\\Omega$.\n",
    "\n",
    "Under those conditions, we can write the total potential energy of the system $\\mathcal{P}_{TOT}$ as:\n",
    "\n",
    "$$ \\mathcal{P}_{TOT}\\left(\\underline{u}(t), \\dot{\\underline{u}}(t), t\\right)  = \\mathcal{P}_{K}\\left(\\dot{\\underline{u}}(t), t\\right) + \\mathcal{P}_{S}\\left(\\underline{u}(t), t\\right) - \\mathcal{P}_{EXT}\\left(\\underline{u}(t), t\\right)$$ \n",
    "\n",
    "where $\\mathcal{P}_{K}$, $\\mathcal{P}_{S}$ and $\\mathcal{P}_{EXT}$ represent the kinetic energy, the strain potential energy and the external work, respectively. At the same time, $\\underline{u}(t)$ and $\\dot{\\underline{u}}(t)$ are the displacement and velocity vector fields corresponding to the instant $t$, both of which are herein assumed to be sufficiently smooth. Please note that in order to fulfill the Dirichlet boundary conditions, the displacement field $\\underline{u}(t)$ must belong to the vector space $\\mathrm{V}(t)$, which is defined as:\n",
    "\n",
    "$$ \\mathrm{V}(t) = \\left\\{ \\underline{u}(t) = \\underline{U}(t) \\quad \\forall \\underline{x} \\in \\partial_{U}\\Omega \\right\\} $$\n",
    "\n",
    "Hereafter, developing the energy components $\\mathcal{P}_{K}$, $\\mathcal{P}_{S}$ and $\\mathcal{P}_{EXT}$ one gets:\n",
    "\n",
    "$$\\mathcal{P}_{K}\\left(\\dot{\\underline{u}}(t), t\\right) = \\frac{1}{2} \\int_{\\Omega} \\rho \\dot{\\underline{u}}(t) \\cdot \\dot{\\underline{u}}(t) \\,\\mathrm{d}\\underline{x}$$\n",
    "\n",
    "$$\\mathcal{P}_{S}\\left(\\underline{u}(t), t\\right) = \\int_{\\Omega} \\psi \\left( \\underline{u}(t)\\right) \\,\\mathrm{d}\\underline{x}$$\n",
    "\n",
    "$$\\mathcal{P}_{EXT}\\left(\\underline{u}(t), t\\right) = \\int_{\\Omega} \\underline{b}(t) \\cdot \\underline{u}(t) \\,\\mathrm{d}\\underline{x} + \\int_{\\partial_{\\Sigma}\\Omega} \\underline{\\Sigma}(t) \\cdot \\underline{u}(t) \\,\\mathrm{d}\\underline{x}$$\n",
    "\n",
    "with $\\psi \\left( \\underline{u}(t)\\right)$ representing the strain energy density. \n",
    "\n",
    "Add disipative term:\n",
    "\n",
    "$$\\mathcal{Q} \\left( \\dot{\\underline{u}}(t), t \\right)$$\n",
    "\n",
    "Based on the principle of least action, one can determine the elastodynamic weak form \n",
    "\n",
    "$$ \\frac{\\mathrm{d}}{\\mathrm{d}t}\\left[\\mathrm{D}_{\\underline{\\dot{u}}} \\left(\\mathcal{P}_{TOT}\\left(\\underline{u}(t), \\dot{\\underline{u}}(t), t\\right)\\right)\\left(\\delta \\underline{u}(t) \\right)\\right] + \\mathrm{D}_{\\underline{u}} \\left(\\mathcal{P}_{TOT}\\left(\\underline{u}(t), \\dot{\\underline{u}}(t), t\\right)\\right)\\left(\\delta \\underline{u}(t) \\right) = -\\mathrm{D}_{\\underline{\\dot{u}}}\\left(\\mathcal{Q} \\left( \\dot{\\underline{u}}(t), t \\right) \\right)\\left(\\delta \\underline{u}(t) \\right)$$ \n",
    "\n",
    "\n",
    "\n",
    "Which \n",
    "\n",
    "$$\\int_{\\Omega}\\rho\\,\\ddot{\\underline{u}}(t) \\cdot \\delta\\underline{u}(t) \\,\\mathrm{d}\\underline{x} + \\int_{\\Omega} \\frac{\\partial \\psi\\left(\\underline{u}(t)\\right)}{\\partial \\underline{u}(t)}\\left(\\underline{u}(t)\\right) \\cdot \\delta\\underline{u}(t) \\,\\mathrm{d}\\underline{x} = \n",
    "\\int_{\\Omega} \\underline{b}(t)\\cdot \\delta\\underline{u}(t) \\,\\mathrm{d}\\underline{x} + \\int_{\\partial_\\Sigma\\Omega} {\\underline{\\Sigma}}(t)\\cdot \\delta\\underline{u}(t) \\,\\mathrm{d}\\underline{x} \\quad \\forall \\delta\\underline{u}(t) \\in \\mathrm{V}_{0}(t)$$\n",
    "\n",
    "Where the term $\\frac{\\partial \\psi\\left(\\underline{u}(t)\\right)}{\\partial \\underline{u}(t)}\\left(\\underline{u}(t)\\right)$ indicates that the derivative of the strain energy density with respect to the displacement field $\\underline{u}(t)$ is a function of only the displacement field. Remarkably, the presence of the acceleration $\\ddot{\\underline{u}}(t)$ in the inertial term makes the system history-dependent and, differently from the quasi-static case, the problem cannot be independently solved at each instant. As a consequence, a time integration scheme is required towards relating the acceleration and displacement fields, so that the governing equation can be entirely written in terms of the former. In what follows, the well-established Newmark $\\beta$-method for time integration will be presented and used.\n"
   ]
  },
  {
   "attachments": {},
   "cell_type": "markdown",
   "id": "cbfe878f-6e56-4f7b-9b1d-72ee43266980",
   "metadata": {
    "tags": []
   },
   "source": [
    "# Newmark $\\beta$-method for time integration of dynamic problems\n",
    "Reference: Newmark N.M., 1959. A Method of Computation for Structural Dynamics. J Eng Mech Div. 85:67–94. https://doi.org/10.1061/JMCEA3.0000098"
   ]
  },
  {
   "attachments": {},
   "cell_type": "markdown",
   "id": "39ed7007-631b-4b38-b44d-24ed82227eec",
   "metadata": {},
   "source": [
    "Let us assume a time discretization of the temporal domain of the problem so that $t_i$ represents the latest instant at which the system's state is known, and $t_{i+1}$ is the earliest instant at which the solution is not known. On this basis, the one can define the time increment $\\Delta t_{i}$ as follows:\n",
    "\n",
    "$$ \\Delta t_{i} = t_{i+1}-t_{i}$$\n",
    "\n",
    "Then, using the extended mean value theorem, the displacement and velocity vector fields at $t_{i+1}$ can be approximated as:\n",
    "\n",
    "$$ \\vec{u}(t_{i+1}) = \\vec{u}(t_{i})+\\Delta t_{i}\\dot{\\vec{u}}(t_i)+\\frac{{\\Delta t_i}^2}{2}\\left((1-2\\beta)\\,\\ddot{\\vec{u}}(t_{i})+2\\beta\\, \\ddot{\\vec{u}}(t_{i+1}) \\right) \\quad 0\\le 2\\beta\\le1 $$\n",
    "\n",
    "$$ \\dot{\\vec{u}}(t_{i+1}) = \\dot{\\vec{u}}(t_{i})+\\Delta t_{i} \\left((1-\\gamma)\\,\\ddot{\\vec{u}}(t_{i})+\\gamma\\,\\ddot{\\vec{u}}(t_{i+1}) \\right) \\quad 0\\le\\gamma\\le1 $$\n",
    "\n",
    "where $\\beta$ and $\\gamma$ are scalar parameters that allow to modify the characteristics of the time stepping scheme by weighting how much the acceleration at the instant $t_{i+1}$, i.e. $\\ddot{\\vec{u}}(t_{i+1})$, affects $\\vec{u}(t_{i+1})$ and $\\dot{\\vec{u}}(t_{i+1})$. \n",
    "\n",
    "Generally speaking, the Newmark $\\beta$-method represents an implicit time integration scheme, for it determines the solution at $t_{i+1}$ as a function of the system state at both instants $t_{i}$ and $t_{i+1}$. Only for a specific choice of the parameters $\\beta$ and $\\gamma$, this method becomes explicit (See below). \n",
    "\n",
    "Now, particularizing the weak form of the elastodynamic problem to the instant $t=t_{i+1}$ and substituting $\\vec{u}(t_{i+1})$ by its approximation above, an equation with just $\\ddot{\\vec{u}}(t_{i+1})$ as an unknown is obtained.\n",
    "\n",
    "$$\\int_{\\Omega}\\rho\\,\\ddot{\\vec{u}}(t_{i+1}) \\cdot \\delta\\vec{u}(t)\\,\\mathrm{d}\\vec{x} + \\int_{\\Omega} \\frac{\\partial \\psi\\left(\\vec{u}(t)\\right)}{\\partial \\vec{u}(t)}\\left(\\ddot{\\vec{u}}(t_{i+1});\\, \\beta, \\vec{u}(t_{i}), \\dot{\\vec{u}}(t_{i}), \\ddot{\\vec{u}}(t_{i}) \\right) \\cdot \\delta\\vec{u}(t) \\,\\mathrm{d}\\vec{x} = \n",
    "\\int_{\\Omega} \\vec{b}(t)\\cdot \\delta\\vec{u}(t) \\,\\mathrm{d}\\vec{x} + \\int_{\\partial_\\Sigma\\Omega} {\\vec{\\Sigma}}(t)\\cdot \\delta\\vec{u}(t) \\,\\mathrm{d}\\vec{x} \\quad \\forall \\delta\\vec{u}(t) \\in \\mathcal{V}_{0}(t)$$\n"
   ]
  },
  {
   "attachments": {},
   "cell_type": "markdown",
   "id": "340fe6b2-1c41-411a-93fc-6b79330e4798",
   "metadata": {
    "tags": []
   },
   "source": [
    "## Explicit time integration scheme - Central difference scheme ($\\beta = 0$ and $\\gamma = 1/2$)"
   ]
  },
  {
   "attachments": {},
   "cell_type": "markdown",
   "id": "18ee21e3-7755-4bf6-9192-5b9003aebaf1",
   "metadata": {},
   "source": [
    "In an explicit integrator, the unknown state of the system at an instant $t_{i+1}$ is entirely determined through the propagation of the known system's state at a previous instant $t_i$, which is the case for the particular choice of $\\beta = 0$ and $\\gamma = 1/2$ in the Newmark's $\\beta$-method. Clearly, this choice implies that :\n",
    "\n",
    "* $\\ddot{\\vec{u}}(t_{i+1})$ will not play any role in the determination of $\\vec{u}(t_{i+1})$\n",
    "\n",
    "* $\\ddot{\\vec{u}}(t_{i})$ and $\\ddot{\\vec{u}}(t_{i+1})$ have the same importance in the determination of $\\dot{\\vec{u}}(t_{i+1})$\n",
    "\n",
    "Subsequently, the propagation of the displacement and velocity vector fields to the instant $t_{i+1}$ particularizes as follows:\n",
    "\n",
    "$$ \\vec{u}(t_{i+1}) = \\vec{u}(t_{i})+\\Delta t_{i}\\,\\dot{\\vec{u}}(t_i)+\\frac{{\\Delta t_{i}}^2}{2}\\,\\ddot{\\vec{u}}(t_{i}) $$\n",
    "\n",
    "$$ \\dot{\\vec{u}}(t_{i+1}) = \\dot{\\vec{u}}(t_{i})+\\frac{\\Delta t_{i}}{2} \\left(\\ddot{\\vec{u}}(t_{i})+\\ddot{\\vec{u}}(t_{i+1}) \\right) $$\n",
    "\n",
    "As a consequence, the displacement field $\\vec{u}(t_{i+1})$ can be entirely determined on the basis of the last known system's state, i.e. $\\vec{u}(t_{i})$, $\\dot{\\vec{u}}(t_i)$ and $\\ddot{\\vec{u}}(t_{i})$. On the other hand, the velocity field can only be updated once the acceleration $\\ddot{\\vec{u}}(t_{i+1})$ is known. Nonetheless, particularizing the the weak form of the elastodynamics problem for the instant $t_{i+1}$:\n",
    "\n",
    "$$\\int_{\\Omega}\\rho\\,\\ddot{\\vec{u}}(t_{i+1}) \\cdot \\delta\\vec{u}(t_{i+1})\\,\\mathrm{d}\\vec{x} = - \\int_{\\Omega} \\frac{\\partial \\psi\\left(\\vec{u}(t)\\right)}{\\partial \\vec{u}(t)}\\left(;\\vec{u}(t_{i}), \\dot{\\vec{u}}(t_{i}), \\ddot{\\vec{u}}(t_{i})\\right) \\cdot \\delta\\vec{u}(t_{i+1})\\,\\mathrm{d}\\vec{x} + \\int_{\\Omega} \\vec{b}(t_{i+1})\\cdot \\delta\\vec{u}(t_{i+1}) \\,\\mathrm{d}\\vec{x} + \\int_{\\partial_t\\Omega} \\vec{f}(t_{i+1})\\cdot \\delta\\vec{u}(t_{i+1}) \\,\\mathrm{d}\\vec{s} \\quad \\forall \\delta\\vec{u}(t_{i+1})\\in \\mathcal{V}_{0}(t_{i+1})$$\n",
    "\n",
    "in which the right hand side is completely known once the displacement field is propagated to $t_{i+1}$. Therefore, the equation above allows to determine the acceleration $\\ddot{\\vec{u}}(t_{i+1})$ required for the estimation of $\\dot{\\vec{u}}(t_{i+1})$, and so the elastodynamics problem is solved."
   ]
  },
  {
   "attachments": {},
   "cell_type": "markdown",
   "id": "41b9d37b-128c-403f-bfb0-d4b3cff99251",
   "metadata": {
    "tags": []
   },
   "source": [
    "# Numerical implementation in dolfinx"
   ]
  },
  {
   "attachments": {},
   "cell_type": "markdown",
   "id": "f1eeaf79-4a62-4efd-b64c-85ee14013bd5",
   "metadata": {},
   "source": [
    "Import required libraries"
   ]
  },
  {
   "cell_type": "code",
   "execution_count": 23,
   "id": "d7a9051a-08c9-4801-a46d-4dd038481b56",
   "metadata": {},
   "outputs": [],
   "source": [
    "import dolfinx, ufl\n",
    "import numpy as np\n",
    "import sympy as sp\n",
    "from mpi4py import MPI\n",
    "from petsc4py import PETSc\n",
    "from matplotlib import pyplot as plt\n",
    "import sys\n",
    "sys.path.append(\"../utils/\")\n",
    "\n",
    "import mesh_plotter\n",
    "from petsc_problems import SNESProblem"
   ]
  },
  {
   "attachments": {},
   "cell_type": "markdown",
   "id": "1bb039bb-d419-437a-ba45-17f1b1baa3d8",
   "metadata": {},
   "source": [
    "Input parameters"
   ]
  },
  {
   "cell_type": "code",
   "execution_count": 24,
   "id": "890d4817-5f87-4dbb-891d-3b8a1ba15524",
   "metadata": {},
   "outputs": [],
   "source": [
    "# Characteristic dimensions of the domain\n",
    "geometry_parameters = {'Lx': 1., \n",
    "                       'Ly': 0.1}\n",
    "\n",
    "# Regularization length               \n",
    "material_properties = {'E':   3e3, \n",
    "                       'nu':  0.3, \n",
    "                       'rho': 1.8e-9}\n",
    "\n",
    "# Mesh control\n",
    "mesh_parameters = {'nx': 10,\n",
    "                   'ny': 1}\n",
    "\n",
    "# Time stepping control\n",
    "timestepping_parameters = {'initial_time':0., \n",
    "                           'total_time':20e-6, \n",
    "                           'delta_t':1.e-8,\n",
    "                           'explicit_safety_factor': 5}\n",
    "\n",
    "# Time integration control (\\beta-method)\n",
    "timeintegration_parameters = {'beta': 0.25,\n",
    "                              'gamma': 0.5}\n",
    "\n",
    "# Top facet displacement\n",
    "T_0 = 0.\n",
    "T_1 = 2.5e-6\n",
    "U_t = 1e-2\n",
    "\n",
    "t_sp = sp.Symbol('t', real = True)\n",
    "U_imp = sp.Piecewise((0, t_sp<T_0),\n",
    "                     (0.5*U_t*(1-sp.cos(((t_sp-T_0)/(T_1-T_0))*sp.pi)), t_sp<=T_1),\n",
    "                     (U_t, True)) \n",
    "V_imp = sp.diff(U_imp, t_sp)\n",
    "A_imp = sp.diff(V_imp, t_sp)\n",
    "\n",
    "# Body forces\n",
    "Xi = np.asarray([0.,0.])"
   ]
  },
  {
   "attachments": {},
   "cell_type": "markdown",
   "id": "fda0fee1-cc17-43dc-bf2c-27c828c7a440",
   "metadata": {},
   "source": [
    "Loading on the right"
   ]
  },
  {
   "cell_type": "code",
   "execution_count": 25,
   "id": "c8f57cb6-0c52-4448-a1c7-896481cf5242",
   "metadata": {},
   "outputs": [
    {
     "data": {
      "image/png": "[encoded data removed]",
      "text/plain": [
       "<Figure size 1800x600 with 3 Axes>"
      ]
     },
     "metadata": {},
     "output_type": "display_data"
    }
   ],
   "source": [
    "t_sampling = np.linspace(timestepping_parameters['initial_time'], \n",
    "                         timestepping_parameters['total_time'], \n",
    "                         1000) \n",
    "U_imp_sampling = np.zeros_like(t_sampling)\n",
    "V_imp_sampling = np.zeros_like(t_sampling)\n",
    "A_imp_sampling = np.zeros_like(t_sampling)\n",
    "\n",
    "for i in enumerate (t_sampling):\n",
    "    U_imp_sampling[i[0]] = U_imp.subs({t_sp:t_sampling[i[0]]})\n",
    "    V_imp_sampling[i[0]] = V_imp.subs({t_sp:t_sampling[i[0]]})\n",
    "    A_imp_sampling[i[0]] = A_imp.subs({t_sp:t_sampling[i[0]]})\n",
    "    \n",
    "fig, ax = plt.subplots(1, 3, figsize=(18,6))\n",
    "ax[0].plot(t_sampling, U_imp_sampling, ls='none', marker='.')\n",
    "ax[0].set_xlabel('Time [s]')\n",
    "ax[0].set_ylabel('Displacement [mm]')\n",
    "ax[1].plot(t_sampling, V_imp_sampling, ls='none', marker='.')\n",
    "ax[1].set_xlabel('Time [s]')\n",
    "ax[1].set_ylabel('Velocity [mm/s]')\n",
    "ax[2].plot(t_sampling, A_imp_sampling, ls='none', marker='.')\n",
    "ax[2].set_xlabel('Time [s]')\n",
    "ax[2].set_ylabel('Acceleration [mm/s2]');"
   ]
  },
  {
   "attachments": {},
   "cell_type": "markdown",
   "id": "c0d3dd62-0797-403c-94a7-3a0349d883ab",
   "metadata": {},
   "source": [
    "Mesh, geometrical regions of interest and measures"
   ]
  },
  {
   "cell_type": "code",
   "execution_count": 26,
   "id": "d1dfdf52-5f98-4914-8231-7aac7d5906af",
   "metadata": {
    "tags": []
   },
   "outputs": [],
   "source": [
    "mesh = dolfinx.mesh.create_rectangle(MPI.COMM_WORLD, \n",
    "                                     [np.array([-geometry_parameters['Lx']/2, -geometry_parameters['Ly']/2]), \n",
    "                                      np.array([+geometry_parameters['Lx']/2, +geometry_parameters['Ly']/2])], \n",
    "                                     [mesh_parameters['nx'], mesh_parameters['ny']], \n",
    "                                     dolfinx.mesh.CellType.triangle)\n",
    "#mesh_plotter(mesh)"
   ]
  },
  {
   "cell_type": "code",
   "execution_count": 27,
   "id": "2c714110-ed24-47e0-a024-2dfc318cd4b4",
   "metadata": {},
   "outputs": [],
   "source": [
    "# Geometrical regions  \n",
    "def top(x):\n",
    "    return np.isclose(x[1], +geometry_parameters[\"Ly\"]/2)\n",
    "def bottom(x):\n",
    "    return np.isclose(x[1], -geometry_parameters[\"Ly\"]/2)\n",
    "def right (x):\n",
    "    return np.isclose(x[0], +geometry_parameters[\"Lx\"]/2)\n",
    "def left (x):\n",
    "    return np.isclose(x[0], -geometry_parameters[\"Lx\"]/2)\n",
    "\n",
    "# Geometrical sets\n",
    "top_facets = dolfinx.mesh.locate_entities_boundary(mesh, mesh.topology.dim-1, top)\n",
    "bottom_facets = dolfinx.mesh.locate_entities_boundary(mesh, mesh.topology.dim-1, bottom)\n",
    "right_facets = dolfinx.mesh.locate_entities(mesh, mesh.topology.dim-1, right)\n",
    "left_facets = dolfinx.mesh.locate_entities(mesh, mesh.topology.dim-1, left)\n",
    "\n",
    "tagged_facets = np.hstack([top_facets, bottom_facets, right_facets, left_facets])\n",
    "tag_values = np.hstack([np.full_like(top_facets, 1), \n",
    "                        np.full_like(bottom_facets, 2),\n",
    "                        np.full_like(right_facets, 3),\n",
    "                        np.full_like(left_facets, 4)])\n",
    "tagged_facets_sorted = np.argsort(tagged_facets)\n",
    "mt = dolfinx.mesh.meshtags(mesh, mesh.topology.dim-1, \n",
    "                           tagged_facets[tagged_facets_sorted], \n",
    "                           tag_values[tagged_facets_sorted])\n",
    "\n",
    "# Domain and subdomain measures\n",
    "dx  = ufl.Measure(\"dx\", domain=mesh)                         # Domain measure\n",
    "ds  = ufl.Measure(\"ds\", domain=mesh, subdomain_data=mt)      # External Boundary measure\n",
    "dS  = ufl.Measure(\"dS\", domain=mesh, subdomain_data=mt)      # External/Internal measure\n",
    "n   = ufl.FacetNormal(mesh)                                  # External normal to the boundary"
   ]
  },
  {
   "attachments": {},
   "cell_type": "markdown",
   "id": "fe7bfc81-3e75-47f2-8f52-41c30a24aea6",
   "metadata": {},
   "source": [
    "Function spaces, functions and system's state"
   ]
  },
  {
   "cell_type": "code",
   "execution_count": 28,
   "id": "9b58a202-03f2-4545-8843-61c4bb70e818",
   "metadata": {},
   "outputs": [],
   "source": [
    "# --------- Main functions and function spaces\n",
    "element_u = ufl.VectorElement('CG', mesh.ufl_cell(), degree=1, dim=mesh.topology.dim)\n",
    "V_u = dolfinx.fem.FunctionSpace(mesh, element_u)\n",
    "u = dolfinx.fem.Function(V_u, name=\"Displacement\")\n",
    "u_new = dolfinx.fem.Function(V_u)\n",
    "v = dolfinx.fem.Function(V_u, name=\"Velocity\")\n",
    "v_new = dolfinx.fem.Function(V_u)\n",
    "a = dolfinx.fem.Function(V_u, name=\"Acceleration\")\n",
    "a_new = dolfinx.fem.Function(V_u)\n",
    "\n",
    "# --------- Auxiliar functions\n",
    "ones_a = dolfinx.fem.Function(V_u)\n",
    "\n",
    "# --------- State of each field \n",
    "state = {\"u\": u,\"v\": v,\"a\": a}"
   ]
  },
  {
   "attachments": {},
   "cell_type": "markdown",
   "id": "f8acd833-02a6-4e0c-ae49-58496c0c4fb0",
   "metadata": {},
   "source": [
    "Boundary conditions"
   ]
  },
  {
   "cell_type": "code",
   "execution_count": 29,
   "id": "fc5f6446-de4f-4d57-a299-189b62b3ce29",
   "metadata": {},
   "outputs": [],
   "source": [
    "# --------- Displacement problem -----------------------------------------------------\n",
    "# Definition of the values for the blocked displacement DoFs\n",
    "V_ux = V_u.sub(0)\n",
    "V_uy = V_u.sub(1)\n",
    "\n",
    "# Clamped left (ux=uy=0) \n",
    "zero_u = dolfinx.fem.Function(V_u)\n",
    "blocked_dofs_left_u = dolfinx.fem.locate_dofs_geometrical(V_u, left)\n",
    "bc_u_left = dolfinx.fem.dirichletbc(zero_u, blocked_dofs_left_u)\n",
    "\n",
    "# Imposed displacement right (ux=U_imp(t))\n",
    "right_ux = dolfinx.fem.Function(V_ux.collapse()[0])\n",
    "blocked_dofs_top_ux = dolfinx.fem.locate_dofs_geometrical((V_ux, V_ux.collapse()[0]), right)\n",
    "bc_ux_right = dolfinx.fem.dirichletbc(right_ux, blocked_dofs_top_ux, V_ux)\n",
    "\n",
    "# Concatenate u-BCs\n",
    "bcs_u = [bc_u_left, bc_ux_right]\n",
    "\n",
    "# --------- Velocity problem -----------------------------------------------------\n",
    "zero_v = dolfinx.fem.Function(V_u)\n",
    "bc_v_left = dolfinx.fem.dirichletbc(zero_v, blocked_dofs_left_u)\n",
    "\n",
    "right_vx = dolfinx.fem.Function(V_ux.collapse()[0])\n",
    "bc_ux_right = dolfinx.fem.dirichletbc(right_vx, blocked_dofs_top_ux, V_ux)\n",
    "\n",
    "bcs_v = [bc_v_left, bc_ux_right]\n",
    "\n",
    "# --------- Acceleration problem -----------------------------------------------------\n",
    "zero_a = dolfinx.fem.Function(V_u)\n",
    "bc_a_left = dolfinx.fem.dirichletbc(zero_a, blocked_dofs_left_u)\n",
    "\n",
    "right_ax = dolfinx.fem.Function(V_ux.collapse()[0])\n",
    "bc_ax_right = dolfinx.fem.dirichletbc(right_ax, blocked_dofs_top_ux, V_ux)\n",
    "\n",
    "bcs_a = [bc_a_left, bc_ax_right]\n"
   ]
  },
  {
   "attachments": {},
   "cell_type": "markdown",
   "id": "bc867574-54bf-48e9-b71c-a480e94b40a8",
   "metadata": {},
   "source": [
    "Variational magnitudes"
   ]
  },
  {
   "cell_type": "code",
   "execution_count": 30,
   "id": "9ed2c860-04fe-44dd-a57c-1fc888b49763",
   "metadata": {},
   "outputs": [],
   "source": [
    "t = dolfinx.fem.Constant(mesh, 0.)\n",
    "\n",
    "# Material properties\n",
    "E   = dolfinx.fem.Constant(mesh, material_properties[\"E\"])\n",
    "nu  = dolfinx.fem.Constant(mesh, material_properties[\"nu\"])\n",
    "rho = dolfinx.fem.Constant(mesh, material_properties[\"rho\"])\n",
    "\n",
    "# Body forces\n",
    "b = dolfinx.fem.Constant(mesh, Xi)\n",
    "\n",
    "# Lame constants (Plane strain)\n",
    "mu    = E / (2.0 * (1.0 + nu))\n",
    "lmbda = E * nu / ((1.0 + nu) * (1.0 - 2.0 * nu))\n",
    "\n",
    "## Infinitesimal strain tensor\n",
    "eps = ufl.variable(ufl.sym(ufl.grad(u)))\n",
    "\n",
    "## Kinetic energy density\n",
    "phi = ufl.variable(0.5*rho*ufl.inner(v,v))\n",
    "\n",
    "## Strain energy density (Linear elastic)\n",
    "psi = ufl.variable(lmbda/2*ufl.tr(eps)**2 + mu*ufl.inner(eps,eps))\n",
    "\n",
    "# Stress tensor\n",
    "sigma = ufl.diff(psi, eps)\n",
    "\n",
    "# Time increment\n",
    "def delta_t (t):\n",
    "    return float(ufl.conditional(ufl.lt(timestepping_parameters['delta_t'],\n",
    "                                   timestepping_parameters[\"total_time\"]-t), \n",
    "                          timestepping_parameters['delta_t'],\n",
    "                          timestepping_parameters[\"total_time\"]-t))\n",
    "\n",
    "# Approximation of u\n",
    "def u_apr (t, u, v, a, a_new):\n",
    "    return (u + delta_t(t)*v + \n",
    "            .5*delta_t(t)**2*((1-2*timeintegration_parameters['beta'])*a + 2*timeintegration_parameters['beta']*a_new))\n",
    "\n",
    "# Approximation of v\n",
    "def v_apr (t, v, a, a_new):\n",
    "    return (v + delta_t(t)*((1-timeintegration_parameters['gamma'])*a + timeintegration_parameters['gamma']*a_new))\n",
    "\n",
    "# System's potential energies and Lagrangian\n",
    "P_kin = phi*dx\n",
    "P_str = psi*dx \n",
    "P_ext = ufl.dot(b,u)*dx \n",
    "P_tot = P_kin + P_str - P_ext\n",
    "\n",
    "# Lagrangian derivatives\n",
    "P_tot_du = ufl.derivative(P_tot, u, ufl.TestFunction(V_u)) \n",
    "P_tot_dv = ufl.derivative(P_tot, v, ufl.TestFunction(V_u))\n",
    "\n",
    "# Residual \n",
    "Res = P_tot_dv + P_tot_du"
   ]
  },
  {
   "attachments": {},
   "cell_type": "markdown",
   "id": "6fc6dd28-9eb8-46ef-a725-26df85d19364",
   "metadata": {},
   "source": [
    "## Iterative resolution"
   ]
  },
  {
   "attachments": {},
   "cell_type": "markdown",
   "id": "cf88f4a5-20e7-4973-a9b8-f4addb9ad963",
   "metadata": {},
   "source": []
  },
  {
   "attachments": {},
   "cell_type": "markdown",
   "id": "f0915afc-f994-4fa7-989b-4132121046ac",
   "metadata": {},
   "source": [
    "Acceleration solver"
   ]
  },
  {
   "cell_type": "code",
   "execution_count": 31,
   "id": "7cf00a62-0960-4dad-b749-84d9186923b1",
   "metadata": {},
   "outputs": [
    {
     "ename": "AttributeError",
     "evalue": "'Form' object has no attribute 'function_space'",
     "output_type": "error",
     "traceback": [
      "\u001b[0;31m---------------------------------------------------------------------------\u001b[0m",
      "\u001b[0;31mAttributeError\u001b[0m                            Traceback (most recent call last)",
      "Cell \u001b[0;32mIn[31], line 5\u001b[0m\n\u001b[1;32m      2\u001b[0m Res_beta \u001b[39m=\u001b[39m ufl\u001b[39m.\u001b[39mreplace(Res, {v: a_new, u: u_apr (t, u, v, a, a_new)})\n\u001b[1;32m      3\u001b[0m Res_beta_da \u001b[39m=\u001b[39m ufl\u001b[39m.\u001b[39mderivative(Res_beta, a_new, ufl\u001b[39m.\u001b[39mTrialFunction(V_u)) \n\u001b[0;32m----> 5\u001b[0m a_problem \u001b[39m=\u001b[39m SNESProblem(Res_beta, Res_beta_da, a_new, bcs_a)\n\u001b[1;32m      6\u001b[0m b \u001b[39m=\u001b[39m dolfinx\u001b[39m.\u001b[39mla\u001b[39m.\u001b[39mcreate_petsc_vector(V_u\u001b[39m.\u001b[39mdofmap\u001b[39m.\u001b[39mindex_map, V_u\u001b[39m.\u001b[39mdofmap\u001b[39m.\u001b[39mindex_map_bs)\n\u001b[1;32m      7\u001b[0m J \u001b[39m=\u001b[39m dolfinx\u001b[39m.\u001b[39mfem\u001b[39m.\u001b[39mpetsc\u001b[39m.\u001b[39mcreate_matrix(dolfinx\u001b[39m.\u001b[39mfem\u001b[39m.\u001b[39mform(a_problem\u001b[39m.\u001b[39ma))\n",
      "File \u001b[0;32m~/Documents/codes/fenicsx-fracture/notebooks/elastodynamics/../utils/petsc_problems.py:9\u001b[0m, in \u001b[0;36mSNESProblem.__init__\u001b[0;34m(self, F, u, bcs, J)\u001b[0m\n\u001b[1;32m      8\u001b[0m \u001b[39mdef\u001b[39;00m \u001b[39m__init__\u001b[39m(\u001b[39mself\u001b[39m, F, u, bcs, J\u001b[39m=\u001b[39m\u001b[39mNone\u001b[39;00m):\n\u001b[0;32m----> 9\u001b[0m     V \u001b[39m=\u001b[39m u\u001b[39m.\u001b[39;49mfunction_space\n\u001b[1;32m     10\u001b[0m     du \u001b[39m=\u001b[39m ufl\u001b[39m.\u001b[39mTrialFunction(V)\n\u001b[1;32m     11\u001b[0m     \u001b[39mself\u001b[39m\u001b[39m.\u001b[39mL \u001b[39m=\u001b[39m fem\u001b[39m.\u001b[39mform(F)\n",
      "\u001b[0;31mAttributeError\u001b[0m: 'Form' object has no attribute 'function_space'"
     ]
    }
   ],
   "source": [
    "## --------- Acceleration explicit problem ----------------------------------------------------\n",
    "Res_beta = ufl.replace(Res, {v: a_new, u: u_apr (t, u, v, a, a_new)})\n",
    "Res_beta_da = ufl.derivative(Res_beta, a_new, ufl.TrialFunction(V_u)) \n",
    "\n",
    "a_problem = SNESProblem(Res_beta, a_new, bcs_a, J=Res_beta_da)\n",
    "b = dolfinx.la.create_petsc_vector(V_u.dofmap.index_map, V_u.dofmap.index_map_bs)\n",
    "J = dolfinx.fem.petsc.create_matrix(dolfinx.fem.form(a_problem.a))\n",
    "\n",
    "# Acceleration Solver (with consistent mass matrix)\n",
    "solver_a_snes = PETSc.SNES().create()\n",
    "solver_a_snes.setType(\"ksponly\")\n",
    "solver_a_snes.setFunction(a_problem.F, b)\n",
    "solver_a_snes.setJacobian(a_problem.J, J)\n",
    "solver_a_snes.setTolerances(rtol=1.0e-9, max_it=15)\n",
    "solver_a_snes.getKSP().setType(\"preonly\")\n",
    "solver_a_snes.getKSP().setTolerances(rtol=1.0e-9)\n",
    "solver_a_snes.getKSP().getPC().setType(\"lu\")"
   ]
  },
  {
   "attachments": {},
   "cell_type": "markdown",
   "id": "2b17fe85-0de3-4405-85ea-c0624332bef2",
   "metadata": {},
   "source": [
    "Magnitudes of interest"
   ]
  },
  {
   "cell_type": "code",
   "execution_count": null,
   "id": "0fd8128c-bd59-4d37-92f4-14a92a671393",
   "metadata": {},
   "outputs": [],
   "source": [
    "P_kin_form = dolfinx.fem.form(P_kin)\n",
    "P_str_form = dolfinx.fem.form(P_str)\n",
    "P_tot_form = dolfinx.fem.form(P_tot)\n",
    "Fx_react_right_form = dolfinx.fem.form(ufl.inner(n,sigma*n)*ds(3))"
   ]
  },
  {
   "attachments": {},
   "cell_type": "markdown",
   "id": "574fcc74-5db4-4bc0-bdf8-b613e27c9e4a",
   "metadata": {},
   "source": [
    "Iterative resolution"
   ]
  },
  {
   "cell_type": "code",
   "execution_count": null,
   "id": "73370943-6f0f-4262-9822-ed45805ae79d",
   "metadata": {},
   "outputs": [],
   "source": [
    "# Initialization\n",
    "t.value = timestepping_parameters[\"initial_time\"]\n",
    "\n",
    "P_kin_ = []\n",
    "P_str_ = []\n",
    "P_ext_ = []\n",
    "P_tot_ =[]\n",
    "Fx_react_right_ = []\n",
    "t_ = []\n",
    "\n",
    "with u.vector.localForm() as u_local:\n",
    "    u_local.set(0.)   \n",
    "u.vector.ghostUpdate(addv=PETSc.InsertMode.INSERT, mode=PETSc.ScatterMode.FORWARD)\n",
    "\n",
    "with v.vector.localForm() as v_local:\n",
    "    v_local.set(0.)  \n",
    "v.vector.ghostUpdate(addv=PETSc.InsertMode.INSERT, mode=PETSc.ScatterMode.FORWARD)\n",
    "  \n",
    "with a.vector.localForm() as a_local:\n",
    "    a_local.set(0.) \n",
    "a.vector.ghostUpdate(addv=PETSc.InsertMode.INSERT, mode=PETSc.ScatterMode.FORWARD)\n",
    "\n",
    "with zero_u.vector.localForm() as bc_local:\n",
    "    bc_local.set(0.)\n",
    "zero_u.vector.ghostUpdate(addv=PETSc.InsertMode.INSERT, mode=PETSc.ScatterMode.FORWARD)\n",
    "\n",
    "with zero_v.vector.localForm() as bc_local:\n",
    "    bc_local.set(0.)\n",
    "zero_v.vector.ghostUpdate(addv=PETSc.InsertMode.INSERT, mode=PETSc.ScatterMode.FORWARD)\n",
    "\n",
    "with zero_a.vector.localForm() as bc_local:\n",
    "    bc_local.set(0.)\n",
    "zero_a.vector.ghostUpdate(addv=PETSc.InsertMode.INSERT, mode=PETSc.ScatterMode.FORWARD)\n",
    "\n",
    "with right_ux.vector.localForm() as bc_local:\n",
    "    bc_local.set(float(U_imp.subs({t_sp:t.value})))\n",
    "right_ux.vector.ghostUpdate(addv=PETSc.InsertMode.INSERT, mode=PETSc.ScatterMode.FORWARD)\n",
    "\n",
    "with right_vx.vector.localForm() as bc_local:\n",
    "    bc_local.set(float(U_imp.subs({t_sp:t.value})))\n",
    "right_vx.vector.ghostUpdate(addv=PETSc.InsertMode.INSERT, mode=PETSc.ScatterMode.FORWARD)\n",
    "\n",
    "with right_ax.vector.localForm() as bc_local:\n",
    "    bc_local.set(float(U_imp.subs({t_sp:t.value})))\n",
    "right_ax.vector.ghostUpdate(addv=PETSc.InsertMode.INSERT, mode=PETSc.ScatterMode.FORWARD)\n",
    " \n",
    "with ones_a.vector.localForm() as ones_local:\n",
    "    ones_local.set(1.)\n",
    "ones_a.vector.ghostUpdate(addv=PETSc.InsertMode.INSERT, mode=PETSc.ScatterMode.FORWARD)\n",
    "     \n",
    "## ------------- TIME STEPPING\n",
    "\n",
    "while t.value < timestepping_parameters[\"total_time\"]:\n",
    "    \n",
    "    #Update displacement boundary conditions         \n",
    "    with right_ux.vector.localForm() as bc_local:\n",
    "        bc_local.set(float(U_imp.subs({t_sp:t.value})))\n",
    "    right_ux.vector.ghostUpdate(addv=PETSc.InsertMode.INSERT, mode=PETSc.ScatterMode.FORWARD)\n",
    "    \n",
    "    with right_vx.vector.localForm() as bc_local:\n",
    "        bc_local.set(float(U_imp.subs({t_sp:t.value})))\n",
    "    right_vx.vector.ghostUpdate(addv=PETSc.InsertMode.INSERT, mode=PETSc.ScatterMode.FORWARD)\n",
    "    \n",
    "    with right_ax.vector.localForm() as bc_local:\n",
    "        bc_local.set(float(U_imp.subs({t_sp:t.value})))\n",
    "    right_ax.vector.ghostUpdate(addv=PETSc.InsertMode.INSERT, mode=PETSc.ScatterMode.FORWARD)\n",
    "    \n",
    "    # Update acceleration\n",
    "    solver_a_snes.solve(None, a_new.vector)\n",
    "    a_new.vector.ghostUpdate(addv=PETSc.InsertMode.INSERT, mode=PETSc.ScatterMode.FORWARD)\n",
    "    \n",
    "    #Update displacement field    \n",
    "    (u_apr (t.value, u.vector, v.vector, a.vector, a_new.vector)).copy(u_new.vector)\n",
    "    u_new.vector.ghostUpdate(addv=PETSc.InsertMode.INSERT, mode=PETSc.ScatterMode.FORWARD)\n",
    "    dolfinx.fem.set_bc(u_new.vector,bcs_u)\n",
    "    u_new.vector.ghostUpdate(addv=PETSc.InsertMode.INSERT, mode=PETSc.ScatterMode.FORWARD)\n",
    "    \n",
    "    # Update velocity\n",
    "    (v_apr (t.value, v.vector, a.vector, a_new.vector)).copy(v_new.vector)\n",
    "    v_new.vector.ghostUpdate(addv=PETSc.InsertMode.INSERT, mode=PETSc.ScatterMode.FORWARD)\n",
    "    dolfinx.fem.set_bc(v_new.vector,bcs_v)\n",
    "    v_new.vector.ghostUpdate(addv=PETSc.InsertMode.INSERT, mode=PETSc.ScatterMode.FORWARD)\n",
    "\n",
    "    # Copy i+1 into i\n",
    "    u_new.vector.copy(u.vector)\n",
    "    u.vector.ghostUpdate(addv=PETSc.InsertMode.INSERT, mode=PETSc.ScatterMode.FORWARD)\n",
    "    \n",
    "    v_new.vector.copy(v.vector)\n",
    "    v.vector.ghostUpdate(addv=PETSc.InsertMode.INSERT, mode=PETSc.ScatterMode.FORWARD)\n",
    "    \n",
    "    a_new.vector.copy(a.vector)\n",
    "    a.vector.ghostUpdate(addv=PETSc.InsertMode.INSERT, mode=PETSc.ScatterMode.FORWARD)\n",
    "\n",
    "    t.value += delta_t(t.value)\n",
    "    \n",
    "    P_kin_ = np.concatenate((P_kin_,\n",
    "                            [MPI.COMM_WORLD.allreduce(dolfinx.fem.assemble_scalar(P_kin_form), op=MPI.SUM)]))\n",
    "    \n",
    "    P_str_ = np.concatenate((P_str_,\n",
    "                            [MPI.COMM_WORLD.allreduce(dolfinx.fem.assemble_scalar(P_str_form), op=MPI.SUM)]))\n",
    "    \n",
    "    P_tot_ = np.concatenate((P_tot_,\n",
    "                            [MPI.COMM_WORLD.allreduce(dolfinx.fem.assemble_scalar(P_tot_form), op=MPI.SUM)]))\n",
    "    \n",
    "    Fx_react_right_ = np.concatenate((Fx_react_right_,\n",
    "                            [MPI.COMM_WORLD.allreduce(dolfinx.fem.assemble_scalar(Fx_react_right_form), op=MPI.SUM)]))\n",
    "    \n",
    "    t_ = np.concatenate((t_,[t.value]))"
   ]
  },
  {
   "cell_type": "code",
   "execution_count": null,
   "id": "60145f4a-ca2e-44fd-9ca8-7d22d86f9a86",
   "metadata": {},
   "outputs": [],
   "source": [
    "fig2, ax2 = plt.subplots(1, 2, figsize=(18,6))\n",
    "\n",
    "ax2[0].plot (t_, P_kin_, label = 'Kinetic energy')\n",
    "ax2[0].plot (t_, P_str_, label = 'Strain energy')\n",
    "ax2[0].plot (t_, P_tot_, label = 'Total energy');\n",
    "ax2[0].set_xlabel('Time [s]')\n",
    "ax2[0].set_ylabel('Energy [mJ]')\n",
    "ax2[0].legend()\n",
    "\n",
    "ax2[1].plot (t_, Fx_react_right_)\n",
    "ax2[1].set_xlabel('Time [s]')\n",
    "ax2[1].set_ylabel('Reaction force [N]');"
   ]
  },
  {
   "cell_type": "code",
   "execution_count": null,
   "id": "ced14a95-2b47-4536-b58b-9640f6cc2a24",
   "metadata": {},
   "outputs": [],
   "source": []
  }
 ],
 "metadata": {
  "kernelspec": {
   "display_name": "Python 3 (ipykernel)",
   "language": "python",
   "name": "python3"
  },
  "language_info": {
   "codemirror_mode": {
    "name": "ipython",
    "version": 3
   },
   "file_extension": ".py",
   "mimetype": "text/x-python",
   "name": "python",
   "nbconvert_exporter": "python",
   "pygments_lexer": "ipython3",
   "version": "3.10.11"
  }
 },
 "nbformat": 4,
 "nbformat_minor": 5
}
