{
 "cells": [
  {
   "cell_type": "markdown",
   "id": "genetic-distance",
   "metadata": {},
   "source": [
    "# Linear Elasticity Fracture Mechanics\n",
    "\n",
    "*Authors:* \n",
    "- *Laura De Lorenzis (ETH Zürich)*\n",
    "- *Veronique Lazarus (ENSTA, IPP)*\n",
    "- *Corrado Maurini (Sorbonne Université, corrado.maurini@sorbonne-universite.fr)*\n",
    "\n",
    "This notebook serves as a tutorial for linear elastic fracture mechanics\n"
   ]
  },
  {
   "cell_type": "code",
   "execution_count": 1,
   "id": "coral-cotton",
   "metadata": {},
   "outputs": [],
   "source": [
    "import sys\n",
    "sys.path.append(\"python\")\n",
    "\n",
    "# Import required libraries\n",
    "import matplotlib.pyplot as plt\n",
    "import numpy as np\n",
    "\n",
    "import dolfinx.fem as fem\n",
    "import dolfinx.mesh as mesh\n",
    "import dolfinx.io as io\n",
    "import dolfinx.plot as plot\n",
    "import ufl\n",
    "\n",
    "from mpi4py import MPI\n",
    "from petsc4py import PETSc\n",
    "from petsc4py.PETSc import ScalarType\n",
    "\n",
    "\n",
    "plt.rcParams[\"figure.figsize\"] = (6,3)\n",
    "\n",
    "outdir = \"output\"\n",
    "from pathlib import Path\n",
    "Path(outdir).mkdir(parents=True, exist_ok=True)\n"
   ]
  },
  {
   "cell_type": "markdown",
   "id": "utility-shepherd",
   "metadata": {},
   "source": [
    "# Asymptotic field and SIF ($K_I$)\n",
    "\n",
    "Let us first get the elastic solution for a given crack length "
   ]
  },
  {
   "cell_type": "code",
   "execution_count": 2,
   "id": "opposite-processing",
   "metadata": {},
   "outputs": [
    {
     "ename": "ModuleNotFoundError",
     "evalue": "No module named 'elastic_solver_exp'",
     "output_type": "error",
     "traceback": [
      "\u001b[0;31m---------------------------------------------------------------------------\u001b[0m",
      "\u001b[0;31mModuleNotFoundError\u001b[0m                       Traceback (most recent call last)",
      "Cell \u001b[0;32mIn[2], line 1\u001b[0m\n\u001b[0;32m----> 1\u001b[0m \u001b[39mfrom\u001b[39;00m \u001b[39melastic_solver_exp\u001b[39;00m \u001b[39mimport\u001b[39;00m solve_elasticity\n\u001b[1;32m      3\u001b[0m Lcrack \u001b[39m=\u001b[39m \u001b[39m0.1\u001b[39m\n\u001b[1;32m      4\u001b[0m Lx \u001b[39m=\u001b[39m \u001b[39m1.0\u001b[39m\n",
      "\u001b[0;31mModuleNotFoundError\u001b[0m: No module named 'elastic_solver_exp'"
     ]
    }
   ],
   "source": [
    "from elastic_solver_exp import solve_elasticity\n",
    "\n",
    "Lcrack = 0.1\n",
    "Lx = 1.0\n",
    "Ly = 1.25\n",
    "uh, energy, sigma_ufl = solve_elasticity(Lx=Lx,Ly=Ly,Lcrack=Lcrack,lc=0.05,refinement_ratio=20,dist_min=.1,dist_max=1)\n",
    "\n",
    "from utils import warp_plot_2d\n",
    "import pyvista\n",
    "pyvista.set_jupyter_backend(\"none\")\n",
    "# Other possible pyvista backend if the current one is not working:\n",
    "# \"ipyvtklink\", \"panel\", \"pythreejs\", \"static\", \"pythreejs\", \"none\"\n",
    "\n",
    "import ufl\n",
    "sigma_iso = 1./3*ufl.tr(sigma_ufl)*ufl.Identity(uh.geometric_dimension())\n",
    "sigma_dev =  sigma_ufl - sigma_iso\n",
    "von_Mises = ufl.sqrt(3./2*ufl.inner(sigma_dev, sigma_dev))\n",
    "V_dg = fem.FunctionSpace(uh.function_space.mesh, (\"DG\", 0))\n",
    "stress_expr = fem.Expression(von_Mises, V_dg.element.interpolation_points())\n",
    "vm_stress = fem.Function(V_dg)\n",
    "vm_stress.interpolate(stress_expr)\n",
    "plotter = warp_plot_2d(uh,cell_field=vm_stress,field_name=\"Von Mises stress\", factor=.1,show_edges=True,clim=[0, 0.5],show_scalar_bar=False)\n",
    "pyvista.OFF_SCREEN = False\n",
    "if not pyvista.OFF_SCREEN:\n",
    "    plotter.show()\n",
    "else:\n",
    "    pyvista.start_xvfb(wait=0.1)\n",
    "    figure = plotter.screenshot(f\"{outdir}/VonMises.png\")"
   ]
  },
  {
   "cell_type": "markdown",
   "id": "conditional-original",
   "metadata": {},
   "source": [
    "## Crack opening displacement (COD)\n",
    "\n",
    "Let us get the vertical displacement at the crack lip"
   ]
  },
  {
   "cell_type": "code",
   "execution_count": null,
   "id": "promising-juvenile",
   "metadata": {},
   "outputs": [
    {
     "ename": "ModuleNotFoundError",
     "evalue": "No module named 'utils'",
     "output_type": "error",
     "traceback": [
      "\u001b[0;31m---------------------------------------------------------------------------\u001b[0m",
      "\u001b[0;31mModuleNotFoundError\u001b[0m                       Traceback (most recent call last)",
      "Cell \u001b[0;32mIn [2], line 1\u001b[0m\n\u001b[0;32m----> 1\u001b[0m \u001b[39mfrom\u001b[39;00m \u001b[39mutils\u001b[39;00m \u001b[39mimport\u001b[39;00m evaluate_on_points, warp_plot_2d\n\u001b[1;32m      2\u001b[0m xs \u001b[39m=\u001b[39m np\u001b[39m.\u001b[39mlinspace(\u001b[39m0\u001b[39m,Lcrack,\u001b[39m100\u001b[39m)\n\u001b[1;32m      3\u001b[0m ys \u001b[39m=\u001b[39m \u001b[39m0.0\u001b[39m \u001b[39m*\u001b[39m np\u001b[39m.\u001b[39mones_like(xs)\n",
      "\u001b[0;31mModuleNotFoundError\u001b[0m: No module named 'utils'"
     ]
    }
   ],
   "source": [
    "from utils import evaluate_on_points, warp_plot_2d\n",
    "xs = np.linspace(0,Lcrack,100)\n",
    "ys = 0.0 * np.ones_like(xs)\n",
    "zs = 0.0 * np.ones_like(xs)\n",
    "points = np.array([xs,ys,zs])\n",
    "u_values = evaluate_on_points(uh,points)\n",
    "us = u_values[:,1]\n"
   ]
  },
  {
   "cell_type": "code",
   "execution_count": null,
   "id": "surrounded-paraguay",
   "metadata": {},
   "outputs": [
    {
     "ename": "NameError",
     "evalue": "name 'plt' is not defined",
     "output_type": "error",
     "traceback": [
      "\u001b[0;31m---------------------------------------------------------------------------\u001b[0m",
      "\u001b[0;31mNameError\u001b[0m                                 Traceback (most recent call last)",
      "Cell \u001b[0;32mIn [3], line 1\u001b[0m\n\u001b[0;32m----> 1\u001b[0m plt\u001b[39m.\u001b[39mplot(xs,us,\u001b[39m\"\u001b[39m\u001b[39m.\u001b[39m\u001b[39m\"\u001b[39m)\n\u001b[1;32m      2\u001b[0m plt\u001b[39m.\u001b[39mxlim([\u001b[39m0.\u001b[39m,Lcrack])\n\u001b[1;32m      3\u001b[0m plt\u001b[39m.\u001b[39mxlabel(\u001b[39m\"\u001b[39m\u001b[39mx - coordinate\u001b[39m\u001b[39m\"\u001b[39m)\n",
      "\u001b[0;31mNameError\u001b[0m: name 'plt' is not defined"
     ]
    }
   ],
   "source": [
    "plt.plot(xs,us,\".\")\n",
    "plt.xlim([0.,Lcrack])\n",
    "plt.xlabel(\"x - coordinate\")\n",
    "plt.ylabel(r\"$u_y$\")\n",
    "plt.title(\"Crack opening displacement\")\n",
    "plt.savefig(f\"{outdir}/COD.png\")"
   ]
  },
  {
   "cell_type": "markdown",
   "id": "relevant-blink",
   "metadata": {},
   "source": [
    "As detailed in the lectures notes, we can estimate the value of the stress intensity factor $K_I$ by extrapolating $u \\sqrt{2\\pi/ r}$"
   ]
  },
  {
   "cell_type": "code",
   "execution_count": null,
   "id": "prompt-branch",
   "metadata": {},
   "outputs": [
    {
     "ename": "NameError",
     "evalue": "name 'Lcrack' is not defined",
     "output_type": "error",
     "traceback": [
      "\u001b[0;31m---------------------------------------------------------------------------\u001b[0m",
      "\u001b[0;31mNameError\u001b[0m                                 Traceback (most recent call last)",
      "Cell \u001b[0;32mIn [4], line 1\u001b[0m\n\u001b[0;32m----> 1\u001b[0m r \u001b[39m=\u001b[39m (Lcrack\u001b[39m-\u001b[39mxs)\n\u001b[1;32m      2\u001b[0m \u001b[39m#r_ = r[np.where(xs<Lcrack)]\u001b[39;00m\n\u001b[1;32m      3\u001b[0m \u001b[39m#us_ = us[np.where(xs<Lcrack)]\u001b[39;00m\n\u001b[1;32m      5\u001b[0m nu \u001b[39m=\u001b[39m \u001b[39m0.3\u001b[39m\n",
      "\u001b[0;31mNameError\u001b[0m: name 'Lcrack' is not defined"
     ]
    }
   ],
   "source": [
    "r = (Lcrack-xs)\n",
    "#r_ = r[np.where(xs<Lcrack)]\n",
    "#us_ = us[np.where(xs<Lcrack)]\n",
    "\n",
    "nu = 0.3\n",
    "E = 1.0\n",
    "mu = E / (2.0 * (1.0 + nu))\n",
    "kappa = (3 - nu) / (1 + nu)\n",
    "factor = 2 * mu / (kappa + 1)\n",
    "\n",
    "plt.semilogx(r,us*np.sqrt(2*np.pi/r)*factor,\".\")\n",
    "plt.xlabel(\"r\")\n",
    "plt.ylabel(r\"${u_y} \\,\\frac{2\\mu}{k+1} \\,\\sqrt{2\\pi/r}$\")\n",
    "plt.title(\"Crack opening displacement\")\n",
    "plt.savefig(f\"{outdir}/KI-COD.png\")"
   ]
  },
  {
   "cell_type": "markdown",
   "id": "conventional-plastic",
   "metadata": {},
   "source": [
    "We estimate $K_I\\simeq 1.8\\pm0.1$"
   ]
  },
  {
   "cell_type": "markdown",
   "id": "administrative-singapore",
   "metadata": {},
   "source": [
    "## Stress at the crack tip\n",
    "\n",
    "Let us get the stress around the crack tip"
   ]
  },
  {
   "cell_type": "code",
   "execution_count": null,
   "id": "4a12164b",
   "metadata": {},
   "outputs": [
    {
     "ename": "NameError",
     "evalue": "name 'np' is not defined",
     "output_type": "error",
     "traceback": [
      "\u001b[0;31m---------------------------------------------------------------------------\u001b[0m",
      "\u001b[0;31mNameError\u001b[0m                                 Traceback (most recent call last)",
      "Cell \u001b[0;32mIn [5], line 1\u001b[0m\n\u001b[0;32m----> 1\u001b[0m xs \u001b[39m=\u001b[39m np\u001b[39m.\u001b[39mlinspace(Lcrack,\u001b[39m2\u001b[39m\u001b[39m*\u001b[39mLcrack,\u001b[39m1000\u001b[39m)\n\u001b[1;32m      2\u001b[0m ys \u001b[39m=\u001b[39m \u001b[39m0.0\u001b[39m \u001b[39m*\u001b[39m np\u001b[39m.\u001b[39mones_like(xs)\n\u001b[1;32m      3\u001b[0m zs \u001b[39m=\u001b[39m \u001b[39m0.0\u001b[39m \u001b[39m*\u001b[39m np\u001b[39m.\u001b[39mones_like(xs)\n",
      "\u001b[0;31mNameError\u001b[0m: name 'np' is not defined"
     ]
    }
   ],
   "source": [
    "xs = np.linspace(Lcrack,2*Lcrack,1000)\n",
    "ys = 0.0 * np.ones_like(xs)\n",
    "zs = 0.0 * np.ones_like(xs)\n",
    "points = np.array([xs,ys,zs])\n",
    "r = (xs-Lcrack)\n",
    "sigma_xx_expr = fem.Expression(sigma_ufl[0,0], V_dg.element.interpolation_points())\n",
    "sigma_xx = fem.Function(V_dg)\n",
    "sigma_xx.interpolate(sigma_xx_expr)\n",
    "sigma_xx_values = evaluate_on_points(sigma_xx,points)"
   ]
  },
  {
   "cell_type": "code",
   "execution_count": null,
   "id": "interstate-testing",
   "metadata": {},
   "outputs": [
    {
     "ename": "NameError",
     "evalue": "name 'plt' is not defined",
     "output_type": "error",
     "traceback": [
      "\u001b[0;31m---------------------------------------------------------------------------\u001b[0m",
      "\u001b[0;31mNameError\u001b[0m                                 Traceback (most recent call last)",
      "Cell \u001b[0;32mIn [6], line 1\u001b[0m\n\u001b[0;32m----> 1\u001b[0m plt\u001b[39m.\u001b[39mplot(r,sigma_xx_values[:,\u001b[39m0\u001b[39m],\u001b[39m\"\u001b[39m\u001b[39mo\u001b[39m\u001b[39m\"\u001b[39m)\n\u001b[1;32m      2\u001b[0m plt\u001b[39m.\u001b[39mxlabel(\u001b[39m\"\u001b[39m\u001b[39mr\u001b[39m\u001b[39m\"\u001b[39m)\n\u001b[1;32m      3\u001b[0m plt\u001b[39m.\u001b[39mylabel(\u001b[39mr\u001b[39m\u001b[39m\"\u001b[39m\u001b[39m$\u001b[39m\u001b[39m\\\u001b[39m\u001b[39msigma_\u001b[39m\u001b[39m{rr}\u001b[39;00m\u001b[39m$\u001b[39m\u001b[39m\"\u001b[39m)\n",
      "\u001b[0;31mNameError\u001b[0m: name 'plt' is not defined"
     ]
    }
   ],
   "source": [
    "plt.plot(r,sigma_xx_values[:,0],\"o\")\n",
    "plt.xlabel(\"r\")\n",
    "plt.ylabel(r\"$\\sigma_{rr}$\")\n",
    "plt.title(\"Stress at the crack tip\")\n",
    "plt.savefig(f\"{outdir}/stress.png\")"
   ]
  },
  {
   "cell_type": "markdown",
   "id": "caring-dialogue",
   "metadata": {},
   "source": [
    "As detailed in the lectures notes, we can estimate the value of the stress intensity factor $K_I$ by extrapolating $\\sigma_{rr} \\sqrt{2\\pi r}$"
   ]
  },
  {
   "cell_type": "code",
   "execution_count": null,
   "id": "educational-convertible",
   "metadata": {},
   "outputs": [
    {
     "data": {
      "image/png": "[encoded data removed]",
      "text/plain": [
       "<Figure size 600x300 with 1 Axes>"
      ]
     },
     "metadata": {},
     "output_type": "display_data"
    }
   ],
   "source": [
    "plt.semilogx(r,sigma_xx_values[:,0]*np.sqrt(2*np.pi*r),\"o\")\n",
    "plt.xlabel(\"r\")\n",
    "plt.ylabel(r\"$\\sigma_{rr}*\\sqrt{2\\pi\\,r}$\")\n",
    "plt.title(\"Stress at the crack tip\")\n",
    "plt.savefig(f\"{outdir}/KI-stress.png\")\n"
   ]
  },
  {
   "cell_type": "markdown",
   "id": "alternative-failure",
   "metadata": {},
   "source": [
    "We can say that $K_I\\simeq 1.5\\pm .5$ as from the COD, but this estimate is not precise and reliable. \n",
    "\n",
    "From Irwing formula in plane-stress, we get the energy release rate (ERR)\n"
   ]
  },
  {
   "cell_type": "code",
   "execution_count": null,
   "id": "quarterly-prospect",
   "metadata": {},
   "outputs": [
    {
     "name": "stdout",
     "output_type": "stream",
     "text": [
      "ERR estimate is 3.24\n"
     ]
    }
   ],
   "source": [
    "KI_estimate = 1.8 \n",
    "G_estimate = KI_estimate ** 2 / E # Irwin's formula in plane stress\n",
    "print(f\"ERR estimate is {G_estimate}\")"
   ]
  },
  {
   "cell_type": "markdown",
   "id": "imposed-vancouver",
   "metadata": {},
   "source": [
    "# The elastic energy release rate "
   ]
  },
  {
   "cell_type": "markdown",
   "id": "japanese-light",
   "metadata": {},
   "source": [
    "## Naïf method: finite difference of the potential energy"
   ]
  },
  {
   "cell_type": "markdown",
   "id": "differential-transparency",
   "metadata": {},
   "source": [
    "Let us first calculate the potential energy for several crack lengths. We multiply the result by 2 to account for the symmetry when comparing with the $K_I$ estimate above."
   ]
  },
  {
   "cell_type": "code",
   "execution_count": null,
   "id": "continued-catalyst",
   "metadata": {},
   "outputs": [
    {
     "name": "stdout",
     "output_type": "stream",
     "text": [
      "The potential energy for Lcrack=7.000e-02 is 1.002e-01\n",
      "The potential energy for Lcrack=7.667e-02 is 9.999e-02\n",
      "The potential energy for Lcrack=8.333e-02 is 9.982e-02\n",
      "The potential energy for Lcrack=9.000e-02 is 9.962e-02\n",
      "The potential energy for Lcrack=9.667e-02 is 9.942e-02\n",
      "The potential energy for Lcrack=1.033e-01 is 9.919e-02\n",
      "The potential energy for Lcrack=1.100e-01 is 9.896e-02\n",
      "The potential energy for Lcrack=1.167e-01 is 9.870e-02\n",
      "The potential energy for Lcrack=1.233e-01 is 9.844e-02\n",
      "The potential energy for Lcrack=1.300e-01 is 9.816e-02\n"
     ]
    }
   ],
   "source": [
    "Ls = np.linspace(Lcrack*.7,Lcrack*1.3,10)\n",
    "energies = np.zeros_like(Ls)\n",
    "Gs = np.zeros_like(Ls)\n",
    "for (i, L) in enumerate(Ls):\n",
    "    uh, energies[i], _ = solve_elasticity(Lx=Lx,Ly=Ly,Lcrack=L,lc=.05,refinement_ratio=10,dist_min=.1,dist_max=1.,verbosity=1)\n",
    "    \n",
    "energies = energies * 2"
   ]
  },
  {
   "cell_type": "markdown",
   "id": "stunning-interpretation",
   "metadata": {},
   "source": [
    "We can estimate the ERR by taking the finite-difference approximation of the derivative"
   ]
  },
  {
   "cell_type": "code",
   "execution_count": null,
   "id": "brazilian-geology",
   "metadata": {},
   "outputs": [
    {
     "data": {
      "text/plain": [
       "Text(0.5, 0, 'L_crack')"
      ]
     },
     "execution_count": 36,
     "metadata": {},
     "output_type": "execute_result"
    },
    {
     "data": {
      "image/png": "[encoded data removed]",
      "text/plain": [
       "<Figure size 600x300 with 1 Axes>"
      ]
     },
     "metadata": {},
     "output_type": "display_data"
    },
    {
     "data": {
      "image/png": "[encoded data removed]",
      "text/plain": [
       "<Figure size 600x300 with 1 Axes>"
      ]
     },
     "metadata": {},
     "output_type": "display_data"
    }
   ],
   "source": [
    "ERR_naif = -np.diff(energies)/np.diff(Ls)\n",
    "\n",
    "plt.figure()\n",
    "plt.plot(Ls, energies,\"*\")\n",
    "plt.xlabel(\"L_crack\")\n",
    "plt.ylabel(\"Potential energy\")\n",
    "plt.figure()\n",
    "plt.plot(Ls[0:-1], ERR_naif,\"o\")\n",
    "plt.ylabel(\"ERR\")\n",
    "plt.xlabel(\"L_crack\")\n",
    "#plt.axhline(G_estimate,linestyle='--',color=\"gray\")\n",
    "#plt.axvline(Lcrack,linestyle='--',color=\"gray\") "
   ]
  },
  {
   "cell_type": "markdown",
   "id": "d5ba084f",
   "metadata": {},
   "source": [
    "# G-theta method: domain derivative\n",
    "This function implement the G-theta method to compte the ERR as described in the lecture notes.\n",
    "\n",
    "We first create by an auxiliary computation a suitable theta-field.\n",
    "\n",
    "To this end we solve an auxiliary problem solving for finding a $\\theta$-field which is equal to $1$ in a disk around the crack tip and vanishing on the boundary.\n",
    "This field is used to define the \"direction\" for the domain derivative, which should change the crack length, but not the outer boundary.  \n",
    "\n",
    "Here we determine the $\\theta$ field by solving the floowing problem\n",
    "\n",
    "$$\n",
    "\\Delta \\theta = 0\\quad \\text{for}\\quad x\\in\\Omega,\n",
    "\\quad \\theta=1\\quad \\text{for} \\quad x\\in \\mathrm{D}\\equiv\\{\\Vert x-x_\\mathrm{tip}\\Vert<R_{\\mathrm{int}}\\},\n",
    "\\quad \\theta=0\\quad \\text{for} \\quad x\\in\\partial\\Omega, \\;\\Vert x-x_\\mathrm{tip}\\Vert>R_{\\mathrm{ext}}\n",
    "$$\n",
    "\n",
    "This is implemented in the function below"
   ]
  },
  {
   "cell_type": "code",
   "execution_count": null,
   "id": "5f6ad09d",
   "metadata": {},
   "outputs": [
    {
     "data": {
      "image/png": "[encoded data removed]",
      "text/plain": [
       "<PIL.Image.Image image mode=RGB size=1024x768>"
      ]
     },
     "metadata": {},
     "output_type": "display_data"
    }
   ],
   "source": [
    "def create_theta_field(domain,crack_tip,R_int,R_ext):\n",
    "    \n",
    "    def tip_distance(x):\n",
    "          return np.sqrt((x[0]-crack_tip[0])**2 + (x[1]-crack_tip[1])**2) \n",
    "    \n",
    "    V_theta = fem.FunctionSpace(domain,(\"Lagrange\",1))\n",
    "    \n",
    "   \n",
    "    # Define variational problem to define the theta-field. \n",
    "    # We solve a simple laplacian\n",
    "    theta, theta_ = ufl.TrialFunction(V_theta), ufl.TestFunction(V_theta)\n",
    "    a = ufl.dot(ufl.grad(theta), ufl.grad(theta_)) * ufl.dx\n",
    "    L = fem.Constant(domain,ScalarType(0.)) * theta_ * ufl.dx(domain=domain) \n",
    "\n",
    "    # Set the BCs\n",
    "    # Imposing 1 in the inner circle and zero in the outer circle\n",
    "    dofs_inner = fem.locate_dofs_geometrical(V_theta,lambda x : tip_distance(x) < R_int)\n",
    "    dofs_out = fem.locate_dofs_geometrical(V_theta,lambda x : tip_distance(x) > R_ext)\n",
    "    bc_inner = fem.dirichletbc(ScalarType(1.),dofs_inner,V_theta)\n",
    "    bc_out = fem.dirichletbc(ScalarType(0.),dofs_out,V_theta)\n",
    "    bcs = [bc_out, bc_inner]\n",
    "\n",
    "    # solve the problem\n",
    "    problem = fem.petsc.LinearProblem(a, L, bcs=bcs, petsc_options={\"ksp_type\": \"gmres\", \"pc_type\": \"gamg\"})\n",
    "    thetah = problem.solve()\n",
    "    return thetah\n",
    "\n",
    "crack_tip = np.array([Lcrack,0])\n",
    "crack_tangent = np.array([1,0])\n",
    "crack_tip = np.array([Lcrack,0])\n",
    "R_int = Lcrack/4.\n",
    "R_ext = Lcrack\n",
    "domain = uh.function_space.mesh\n",
    "thetah = create_theta_field(domain,crack_tip,R_int,R_ext)\n",
    "\n",
    "\n",
    "# Plot theta\n",
    "topology, cell_types, geometry = plot.create_vtk_mesh(thetah.function_space)\n",
    "grid = pyvista.UnstructuredGrid(topology, cell_types, geometry)\n",
    "grid.point_data[\"theta\"] = thetah.x.array.real\n",
    "grid.set_active_scalars(\"theta\")\n",
    "plotter = pyvista.Plotter()\n",
    "plotter.add_mesh(grid, show_edges=False)\n",
    "plotter.add_title(\"Theta-field\")\n",
    "plotter.view_xy()\n",
    "plotter.show()"
   ]
  },
  {
   "cell_type": "markdown",
   "id": "abb5c045",
   "metadata": {},
   "source": [
    "From the scalar field, we define a vector field by multiplying by the tangent vector to the crack: t=[1,0]"
   ]
  },
  {
   "cell_type": "markdown",
   "id": "ef6fcb45",
   "metadata": {},
   "source": [
    "Hence, we can compute the ERR with the formula\n",
    "$$\n",
    "G  = \\int_\\Omega \\left(\\sigma(\\varepsilon(u))\\cdot(\\nabla u\\nabla\\theta)-\\dfrac{1}{2}\\sigma(\\varepsilon(u))\\cdot \\varepsilon(u) \\mathrm{div}(\\theta)\\,\\right)\\mathrm{dx}$$"
   ]
  },
  {
   "cell_type": "code",
   "execution_count": null,
   "id": "99b68680",
   "metadata": {},
   "outputs": [
    {
     "name": "stdout",
     "output_type": "stream",
     "text": [
      "Info    : Meshing 1D...\n",
      "Info    : [  0%] Meshing curve 1 (Line)\n",
      "Info    : [ 20%] Meshing curve 2 (Line)\n",
      "Info    : [ 40%] Meshing curve 3 (Line)\n",
      "Info    : [ 60%] Meshing curve 4 (Line)\n",
      "Info    : [ 80%] Meshing curve 5 (Line)\n",
      "Info    : Done meshing 1D (Wall 0.0125119s, CPU 0.012637s)\n",
      "Info    : Meshing 2D...\n",
      "Info    : Meshing surface 1 (Plane, Frontal-Delaunay)\n",
      "Info    : Done meshing 2D (Wall 1.5028s, CPU 1.49413s)\n",
      "Info    : 75084 nodes 150171 elements\n",
      "The potential energy for Lcrack=1.000e-01 is 9.937e-02\n",
      "The ERR computed with the G-theta method is 0.0648\n"
     ]
    }
   ],
   "source": [
    "Lcrack = 0.1\n",
    "Lx = 1.\n",
    "Ly = 1.25\n",
    "crack_tip = np.array([Lcrack,0])\n",
    "crack_tangent = np.array([1,0])\n",
    "crack_tip = np.array([Lcrack,0])\n",
    "R_int = Lcrack/4\n",
    "R_ext = Lcrack\n",
    "uh, energy, sigma_ufl = solve_elasticity(Lx=Lx,Ly=Ly,Lcrack=Lcrack,lc=.02,refinement_ratio=30,dist_min=.1,dist_max=1.0)\n",
    "\n",
    "thetah = create_theta_field(uh.function_space.mesh,crack_tip,R_int,R_ext)\n",
    "eps_ufl = ufl.sym(ufl.grad(uh))\n",
    "theta_vector = ufl.as_vector([1.,0.]) * thetah\n",
    "dx = ufl.dx(domain=uh.function_space.mesh)\n",
    "first_term = ufl.inner(sigma_ufl,ufl.grad(uh) * ufl.grad(theta_vector)) * dx\n",
    "second_term = - 0.5 * ufl.inner(sigma_ufl,eps_ufl) * ufl.div(theta_vector) * dx\n",
    "\n",
    "G_theta = 2 * fem.assemble_scalar(fem.form(first_term + second_term))\n",
    "print(f'The ERR computed with the G-theta method is {G_theta:2.4f}' )"
   ]
  }
 ],
 "metadata": {
  "kernelspec": {
   "display_name": "fenicsx-0.6.0",
   "language": "python",
   "name": "python3"
  },
  "language_info": {
   "codemirror_mode": {
    "name": "ipython",
    "version": 3
   },
   "file_extension": ".py",
   "mimetype": "text/x-python",
   "name": "python",
   "nbconvert_exporter": "python",
   "pygments_lexer": "ipython3",
   "version": "3.10.8"
  },
  "vscode": {
   "interpreter": {
    "hash": "00bfc9313c58f9e362bec94650c0d763b2021dbb0e36860df6c43a45cc922ade"
   }
  }
 },
 "nbformat": 4,
 "nbformat_minor": 5
}
