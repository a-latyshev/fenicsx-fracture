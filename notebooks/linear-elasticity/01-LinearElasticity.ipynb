{
 "cells": [
  {
   "attachments": {},
   "cell_type": "markdown",
   "id": "included-constitution",
   "metadata": {},
   "source": [
    "# Linear Elasticity\n",
    "\n",
    "*Authors:* \n",
    " - *Laura De Lorenzis (ETH Zürich)*\n",
    " - *Corrado Maurini (corrado.maurini@sorbonne-universite.fr)*\n",
    "\n",
    "This notebook serves as a tutorial to solve a problem of linear elasticity using DOLFINx (FEniCS).\n",
    "\n",
    "You can find a tutorial and useful resources for DOLFINx at the following links\n",
    "\n",
    "- https://docs.fenicsproject.org/\n",
    "- https://github.com/FEniCS/dolfinx/\n",
    "- https://jorgensd.github.io/dolfinx-tutorial/, see https://jorgensd.github.io/dolfinx-tutorial/chapter2/linearelasticity.html for linear elasticity\n",
    "\n",
    "We consider an elastic slab $\\Omega$ with a straight crack $\\Gamma$ subject to a mode-I loading by an applied traction force $f$, see figure. \n",
    "\n",
    "Using the symmetry, we will consider only half of the domain in the computation.\n",
    "\n",
    "![title](./domain.png)\n",
    "\n",
    "We solve the problem of linear elasticity with the finite element method, implemented using DOLFINx.\n",
    "\n",
    "DOLFINx is advanced library that allows for efficient parallel computation. For the sake of simplicity, we assume here to work on a single processor and will not use MPI-related commands. Using DOLFINx with MPI will be covered in the afternoon session."
   ]
  },
  {
   "attachments": {},
   "cell_type": "markdown",
   "id": "6b3b4308",
   "metadata": {},
   "source": [
    "We start importing the required libraries. "
   ]
  },
  {
   "cell_type": "code",
   "execution_count": 1,
   "id": "progressive-invite",
   "metadata": {},
   "outputs": [],
   "source": [
    "# Import required libraries\n",
    "import matplotlib.pyplot as plt\n",
    "import numpy as np\n",
    "\n",
    "import dolfinx.fem as fem\n",
    "import dolfinx.mesh as mesh\n",
    "import dolfinx.io as io\n",
    "import dolfinx.plot as plot\n",
    "import ufl\n",
    "\n",
    "from mpi4py import MPI\n",
    "from petsc4py import PETSc\n",
    "from petsc4py.PETSc import ScalarType"
   ]
  },
  {
   "attachments": {},
   "cell_type": "markdown",
   "id": "handled-making",
   "metadata": {},
   "source": [
    "Let us generate a mesh using gmsh (http://gmsh.info/). \n",
    "The mesh is refined around the crack tip.\n",
    "The function to generate the mesh is reported in the external file `meshes.py` located in the directory `python`.\n",
    "To import it, we add `python` to the path where the system is looking for functions to import"
   ]
  },
  {
   "cell_type": "code",
   "execution_count": 2,
   "id": "8282b8fb",
   "metadata": {},
   "outputs": [],
   "source": [
    "import sys\n",
    "sys.path.append(\"../utils\")\n",
    "from meshes import generate_mesh_with_crack"
   ]
  },
  {
   "cell_type": "code",
   "execution_count": 3,
   "id": "superior-exhibition",
   "metadata": {},
   "outputs": [],
   "source": [
    "Lx = 1.\n",
    "Ly = 0.5\n",
    "Lcrack = 0.3\n",
    "lc =.05\n",
    "dist_min = .1\n",
    "dist_max = .3\n",
    "msh, mt, ft = generate_mesh_with_crack(\n",
    "        Lcrack=Lcrack,\n",
    "        Ly=Ly,\n",
    "        lc=lc,  # caracteristic length of the mesh\n",
    "        refinement_ratio=10,  # how much it is refined at the tip zone\n",
    "        dist_min=dist_min,  # radius of tip zone\n",
    "        dist_max=dist_max,  # radius of the transition zone\n",
    "        verbosity=1\n",
    "    )"
   ]
  },
  {
   "attachments": {},
   "cell_type": "markdown",
   "id": "magnetic-slovak",
   "metadata": {},
   "source": [
    "To plot the mesh we use `pyvista` see:\n",
    "- https://jorgensd.github.io/dolfinx-tutorial/chapter3/component_bc.html\n",
    "- https://docs.fenicsproject.org/dolfinx/main/python/demos/pyvista/demo_pyvista.py.html"
   ]
  },
  {
   "cell_type": "code",
   "execution_count": 4,
   "id": "peripheral-stretch",
   "metadata": {},
   "outputs": [
    {
     "ename": "OSError",
     "evalue": "Please install Xvfb with:\n\nDebian\n$ sudo apt install libgl1-mesa-glx xvfb\n\nCentOS / RHL\n$ sudo yum install libgl1-mesa-glx xvfb\n\n",
     "output_type": "error",
     "traceback": [
      "\u001b[0;31m---------------------------------------------------------------------------\u001b[0m",
      "\u001b[0;31mOSError\u001b[0m                                   Traceback (most recent call last)",
      "\u001b[1;32m/Users/maurini/Documents/codes/fenicsx-fracture/notebooks/linear-elasticity/01-LinearElasticity.ipynb Cell 8\u001b[0m line \u001b[0;36m2\n\u001b[1;32m      <a href='vscode-notebook-cell:/Users/maurini/Documents/codes/fenicsx-fracture/notebooks/linear-elasticity/01-LinearElasticity.ipynb#X10sZmlsZQ%3D%3D?line=0'>1</a>\u001b[0m \u001b[39mimport\u001b[39;00m \u001b[39mpyvista\u001b[39;00m\n\u001b[0;32m----> <a href='vscode-notebook-cell:/Users/maurini/Documents/codes/fenicsx-fracture/notebooks/linear-elasticity/01-LinearElasticity.ipynb#X10sZmlsZQ%3D%3D?line=1'>2</a>\u001b[0m pyvista\u001b[39m.\u001b[39;49mstart_xvfb(wait\u001b[39m=\u001b[39;49m\u001b[39m0.1\u001b[39;49m)\n\u001b[1;32m      <a href='vscode-notebook-cell:/Users/maurini/Documents/codes/fenicsx-fracture/notebooks/linear-elasticity/01-LinearElasticity.ipynb#X10sZmlsZQ%3D%3D?line=2'>3</a>\u001b[0m grid \u001b[39m=\u001b[39m pyvista\u001b[39m.\u001b[39mUnstructuredGrid(\u001b[39m*\u001b[39mplot\u001b[39m.\u001b[39mcreate_vtk_mesh(msh))\n\u001b[1;32m      <a href='vscode-notebook-cell:/Users/maurini/Documents/codes/fenicsx-fracture/notebooks/linear-elasticity/01-LinearElasticity.ipynb#X10sZmlsZQ%3D%3D?line=3'>4</a>\u001b[0m plotter \u001b[39m=\u001b[39m pyvista\u001b[39m.\u001b[39mPlotter()\n",
      "File \u001b[0;32m~/anaconda3/envs/fenicsx-fracture/lib/python3.10/site-packages/pyvista/utilities/xvfb.py:47\u001b[0m, in \u001b[0;36mstart_xvfb\u001b[0;34m(wait, window_size)\u001b[0m\n\u001b[1;32m     44\u001b[0m     \u001b[39mraise\u001b[39;00m \u001b[39mOSError\u001b[39;00m(\u001b[39m'\u001b[39m\u001b[39m`start_xvfb` is only supported on Linux\u001b[39m\u001b[39m'\u001b[39m)\n\u001b[1;32m     46\u001b[0m \u001b[39mif\u001b[39;00m os\u001b[39m.\u001b[39msystem(\u001b[39m'\u001b[39m\u001b[39mwhich Xvfb > /dev/null\u001b[39m\u001b[39m'\u001b[39m):\n\u001b[0;32m---> 47\u001b[0m     \u001b[39mraise\u001b[39;00m \u001b[39mOSError\u001b[39;00m(XVFB_INSTALL_NOTES)\n\u001b[1;32m     49\u001b[0m \u001b[39m# use current default window size\u001b[39;00m\n\u001b[1;32m     50\u001b[0m \u001b[39mif\u001b[39;00m window_size \u001b[39mis\u001b[39;00m \u001b[39mNone\u001b[39;00m:\n",
      "\u001b[0;31mOSError\u001b[0m: Please install Xvfb with:\n\nDebian\n$ sudo apt install libgl1-mesa-glx xvfb\n\nCentOS / RHL\n$ sudo yum install libgl1-mesa-glx xvfb\n\n"
     ]
    }
   ],
   "source": [
    "import pyvista\n",
    "pyvista.start_xvfb(wait=0.1)\n",
    "grid = pyvista.UnstructuredGrid(*plot.create_vtk_mesh(msh))\n",
    "plotter = pyvista.Plotter()\n",
    "plotter.add_mesh(grid, show_edges=True)\n",
    "plotter.camera_position = 'xy'\n",
    "if not pyvista.OFF_SCREEN:\n",
    "    plotter.show()"
   ]
  },
  {
   "attachments": {},
   "cell_type": "markdown",
   "id": "wrapped-yellow",
   "metadata": {},
   "source": [
    "## Finite element function space\n",
    "\n",
    "We use here linear Lagrange triangle elements"
   ]
  },
  {
   "cell_type": "code",
   "execution_count": null,
   "id": "owned-alarm",
   "metadata": {},
   "outputs": [],
   "source": [
    "element = ufl.VectorElement('Lagrange',msh.ufl_cell(),degree=1,dim=2)\n",
    "V = fem.FunctionSpace(msh, element)"
   ]
  },
  {
   "attachments": {},
   "cell_type": "markdown",
   "id": "returning-cricket",
   "metadata": {},
   "source": [
    "## Dirichlet boundary conditions\n",
    "\n",
    "We define below the functions to impose the Dirichlet boundary conditions.\n",
    "\n",
    "In our case we want to \n",
    "- block the vertical component $u_1$ of the displacement on the part of the bottom boundary without crack\n",
    "- block the horizontal component $u_0$ on the right boundary\n",
    "\n",
    "We first get the facets to block on the boundary (`dolfinx.mesh.locate_entities_boundary`) and then the corresponding dofs (`dolfinx.fem.locate_dofs_topological`)"
   ]
  },
  {
   "cell_type": "code",
   "execution_count": null,
   "id": "4abb7438-b5db-49cb-93b1-2a8628f02918",
   "metadata": {},
   "outputs": [],
   "source": [
    "def bottom_no_crack(x):\n",
    "    return np.logical_and(np.isclose(x[1], 0.0), \n",
    "                          x[0] > Lcrack)\n",
    "\n",
    "def top(x):\n",
    "    return np.isclose(x[1], Ly)\n",
    "\n",
    "def right(x):\n",
    "    return np.isclose(x[0], Lx)\n",
    "\n",
    "bottom_no_crack_facets = mesh.locate_entities_boundary(msh, msh.topology.dim-1, bottom_no_crack)\n",
    "bottom_no_crack_dofs_y = fem.locate_dofs_topological(V.sub(1), msh.topology.dim-1, bottom_no_crack_facets)\n",
    "\n",
    "top_facets = mesh.locate_entities_boundary(msh, msh.topology.dim-1, top)\n",
    "top_dofs = fem.locate_dofs_topological(V, msh.topology.dim-1, top_facets)\n",
    "\n",
    "right_facets = mesh.locate_entities_boundary(msh, msh.topology.dim-1, right)\n",
    "right_dofs = fem.locate_dofs_topological(V.sub(0), msh.topology.dim-1, right_facets)\n",
    "\n",
    "bc_bottom = fem.dirichletbc(0.0, bottom_no_crack_dofs_y, V.sub(1))\n",
    "bc_right = fem.dirichletbc(0.0, right_dofs, V.sub(0))\n",
    "bc_top = fem.dirichletbc(np.array([0,1/2],dtype=ScalarType), top_dofs, V)\n",
    "bcs = [bc_bottom, bc_top, bc_right]"
   ]
  },
  {
   "attachments": {},
   "cell_type": "markdown",
   "id": "lovely-parker",
   "metadata": {},
   "source": [
    "## Define the bulk and surface mesures\n",
    "The bulk (`dx`) and surface (`ds`) measures are used by `ufl` to write variational form with integral over the domain or the boundary, respectively. \n",
    "\n",
    "In this example the surface measure `ds` includes tags to specify Neumann bcs: `ds(1)` will mean the integral on the top boundary. "
   ]
  },
  {
   "cell_type": "code",
   "execution_count": null,
   "id": "artificial-vinyl",
   "metadata": {},
   "outputs": [],
   "source": [
    "dx = ufl.Measure(\"dx\",domain=msh)\n",
    "top_facets = mesh.locate_entities_boundary(msh, 1, lambda x : np.isclose(x[1], Ly))\n",
    "mt = mesh.meshtags(msh, 1, top_facets, 1)\n",
    "ds = ufl.Measure(\"ds\", subdomain_data=mt)"
   ]
  },
  {
   "attachments": {},
   "cell_type": "markdown",
   "id": "sitting-sleep",
   "metadata": {},
   "source": [
    "## Define the variational problem \n",
    "\n",
    "We specify the problem to solve though the weak formulation written in the [ufl](https://fenics.readthedocs.io/projects/ufl/en/latest/) syntax by giving the bilinear $a(u,v)$ and linear forms $L(v)$ in \n",
    "the weak formulation: \n",
    "\n",
    "find the *trial function* $u$ such that for all *test function* $v$\n",
    "$a(u,v)=L(v)$ with \n",
    "\n",
    "$$\n",
    "a(u,v)=\\int_{\\Omega\\setminus\\Gamma}\\sigma(\\varepsilon(u))\\cdot \\varepsilon(v)\\,\\mathrm{d}x, \n",
    "\\quad L(v)=\\int_\\Omega b\\cdot v \\,\\mathrm{d}x + \\int_{\\partial_N\\Omega} f\\cdot v \\,\\mathrm{d}s \n",
    "$$"
   ]
  },
  {
   "attachments": {},
   "cell_type": "markdown",
   "id": "rural-childhood",
   "metadata": {},
   "source": [
    "Note on UFL terminology:\n",
    "- `ufl.inner(sigma(eps(u)), eps(v))` is an expression\n",
    "- `ufl.inner(sigma(eps(u)), eps(v)) * dx` is a form"
   ]
  },
  {
   "cell_type": "code",
   "execution_count": null,
   "id": "documented-owner",
   "metadata": {},
   "outputs": [],
   "source": [
    "u = ufl.TrialFunction(V)\n",
    "v = ufl.TestFunction(V)\n",
    "\n",
    "E = 1. \n",
    "nu = 0.3 \n",
    "mu = E / (2.0 * (1.0 + nu))\n",
    "lmbda = E * nu / ((1.0 + nu) * (1.0 - 2.0 * nu))\n",
    "# this is for plane-stress\n",
    "lmbda = 2 * mu * lmbda / ( lmbda + 2 * mu )\n",
    "\n",
    "def eps(u):\n",
    "    \"\"\"Strain\"\"\"\n",
    "    return ufl.sym(ufl.grad(u))\n",
    "\n",
    "def sigma(eps):\n",
    "    \"\"\"Stress\"\"\"\n",
    "    return 2.0 * mu * eps + lmbda * ufl.tr(eps) * ufl.Identity(2)\n",
    "\n",
    "def a(u,v):\n",
    "    \"\"\"The bilinear form of the weak formulation\"\"\"\n",
    "    return ufl.inner(sigma(eps(u)), eps(v)) * dx \n",
    "\n",
    "def L(v): \n",
    "    \"\"\"The linear form of the weak formulation\"\"\"\n",
    "    # Volume force\n",
    "    b = fem.Constant(msh,ScalarType((0, 0)))\n",
    "\n",
    "    # Surface force on the top\n",
    "    f = fem.Constant(msh,ScalarType((0, 0.)))\n",
    "    return ufl.dot(b, v) * dx + ufl.dot(f, v) * ds(1)"
   ]
  },
  {
   "attachments": {},
   "cell_type": "markdown",
   "id": "incorporated-brain",
   "metadata": {},
   "source": [
    "Let us plot the solution using `pyvista`, see\n",
    "- https://jorgensd.github.io/dolfinx-tutorial/chapter3/component_bc.html\n",
    "- https://docs.fenicsproject.org/dolfinx/v0.5.0/python/demos/demo_pyvista.html"
   ]
  },
  {
   "attachments": {},
   "cell_type": "markdown",
   "id": "crude-tennis",
   "metadata": {},
   "source": [
    "## Define the linear problem and solve\n",
    "We solve the problem using a direct solver. The class `dolfinx.fem.LinearProblem` assemble the stiffness matrix and load vector, apply the boundary conditions, and solve the linear system."
   ]
  },
  {
   "cell_type": "code",
   "execution_count": null,
   "id": "established-latitude",
   "metadata": {},
   "outputs": [],
   "source": [
    "problem = fem.petsc.LinearProblem(a(u,v), L(v), bcs=bcs, \n",
    "                                    petsc_options={\"ksp_type\": \"preonly\", \"pc_type\": \"lu\"})\n",
    "uh = problem.solve()\n",
    "uh.name = \"displacement\""
   ]
  },
  {
   "attachments": {},
   "cell_type": "markdown",
   "id": "subjective-preparation",
   "metadata": {},
   "source": [
    "## Postprocessing"
   ]
  },
  {
   "attachments": {},
   "cell_type": "markdown",
   "id": "moved-world",
   "metadata": {},
   "source": [
    "We can easily calculate the potential energy"
   ]
  },
  {
   "cell_type": "code",
   "execution_count": null,
   "id": "narrative-connecticut",
   "metadata": {},
   "outputs": [],
   "source": [
    "energy = fem.assemble_scalar(fem.form(0.5 * a(uh, uh) - L(uh)))\n",
    "print(f\"The potential energy is {energy:2.3e}\")"
   ]
  },
  {
   "attachments": {},
   "cell_type": "markdown",
   "id": "outside-houston",
   "metadata": {},
   "source": [
    "We can save the results to a file, that we can open with `paraview` (https://www.paraview.org/)"
   ]
  },
  {
   "cell_type": "code",
   "execution_count": null,
   "id": "announced-example",
   "metadata": {},
   "outputs": [],
   "source": [
    "with io.XDMFFile(MPI.COMM_WORLD, \"output/elasticity-demo.xdmf\", \"w\") as file:\n",
    "    file.write_mesh(uh.function_space.mesh)\n",
    "    file.write_function(uh)"
   ]
  },
  {
   "attachments": {},
   "cell_type": "markdown",
   "id": "b22b1794",
   "metadata": {},
   "source": [
    "## Stress computation\n",
    "\n",
    "We calculate here the Von Mises stress by interpolating the corresponding ufl expression, see https://jorgensd.github.io/dolfinx-tutorial/chapter2/linearelasticity_code.html#stress-computation"
   ]
  },
  {
   "cell_type": "code",
   "execution_count": null,
   "id": "780e0397",
   "metadata": {},
   "outputs": [],
   "source": [
    "sigma_iso = 1./3*ufl.tr(sigma(eps(uh)))*ufl.Identity(len(uh))\n",
    "sigma_dev =  sigma(eps(uh)) - sigma_iso\n",
    "von_Mises = ufl.sqrt(3./2*ufl.inner(sigma_dev, sigma_dev))\n",
    "V_von_mises = fem.FunctionSpace(msh, (\"DG\", 0))\n",
    "stress_expr = fem.Expression(von_Mises, V_von_mises.element.interpolation_points())\n",
    "vm_stress = fem.Function(V_von_mises)\n",
    "vm_stress.interpolate(stress_expr)"
   ]
  },
  {
   "cell_type": "code",
   "execution_count": null,
   "id": "b49560f6",
   "metadata": {},
   "outputs": [],
   "source": [
    "from plots import warp_plot_2d\n",
    "plotter = warp_plot_2d(uh,cell_field=vm_stress,\n",
    "                       field_name=\"Von Mises stress\",\n",
    "                       factor=.5,\n",
    "                       show_edges=True,\n",
    "                       clim=[0, 0.5])\n",
    "\n",
    "if not pyvista.OFF_SCREEN:\n",
    "    plotter.show()"
   ]
  },
  {
   "attachments": {},
   "cell_type": "markdown",
   "id": "46ccbbc7",
   "metadata": {},
   "source": [
    "We can now wrap all the code in a the external module, so that we can resuse the solver later\n",
    "\n",
    "We define in `elastic_solver.py` a function `solve_elasticity` taking as input  the crack length `Lcrack`, the geoemtric and mesh parameters, the Poisson ratio `nu`, and giving us as output the solution field `uh` and the related potential energy `energy`\n",
    "\n",
    "The returned `uh` and `energy` will be calculated assuming a force density `f=1` on the top surface and a Young modulus `E=1`. This is without loss of generality, see the exercise below.\n"
   ]
  },
  {
   "attachments": {},
   "cell_type": "markdown",
   "id": "02fb3cc2",
   "metadata": {},
   "source": [
    "**Exercise.** \n",
    "\n",
    "Let be $u^{*}$ and $P^{*}$ the displacement field obtained on a domain $\\Omega^*=[0,1]\\times[0,\\varrho]$ for a Young module $E^*=1$ and a load $f^*=1$ applied on the top surface. \n",
    "Determine by dimensional analysis the analytical formulas giving the \n",
    "displacement $u$ and the potential energy $P$ for any other value of  $E$,  load $f$, and for any domain $\\Omega=[0,L]\\times[0,\\varrho\\, L]$  obtained by a rescaling of $\\Omega^*$ with a length-scale $L$.\n",
    "Deduce that we can, without loss of generality, perform computation with $E=1$, $f=1$ and $L=1$."
   ]
  },
  {
   "cell_type": "code",
   "execution_count": null,
   "id": "2d668e2d",
   "metadata": {},
   "outputs": [],
   "source": [
    "from mpi4py import MPI\n",
    "from elastic_solver import solve_elasticity\n",
    "\n",
    "uh, energy, _ = solve_elasticity(\n",
    "    nu=0.3,\n",
    "    E=1,\n",
    "    load=1,\n",
    "    Lx=1,\n",
    "    Ly=0.5,\n",
    "    Lcrack=0.3,\n",
    "    lc=0.1,\n",
    "    refinement_ratio=10,\n",
    "    dist_min=0.2,\n",
    "    dist_max=0.3,\n",
    "    verbosity=1\n",
    ")\n",
    "\n",
    "with io.XDMFFile(MPI.COMM_WORLD, \"output/elasticity-demo.xdmf\", \"w\") as file:\n",
    "    file.write_mesh(uh.function_space.mesh)\n",
    "    file.write_function(uh)\n"
   ]
  },
  {
   "cell_type": "code",
   "execution_count": null,
   "id": "0e96dc48",
   "metadata": {},
   "outputs": [],
   "source": []
  }
 ],
 "metadata": {
  "jupytext": {
   "formats": "ipynb,py:percent"
  },
  "kernelspec": {
   "display_name": "fenicsx-0.6.0",
   "language": "python",
   "name": "python3"
  },
  "language_info": {
   "codemirror_mode": {
    "name": "ipython",
    "version": 3
   },
   "file_extension": ".py",
   "mimetype": "text/x-python",
   "name": "python",
   "nbconvert_exporter": "python",
   "pygments_lexer": "ipython3",
   "version": "3.10.11"
  },
  "vscode": {
   "interpreter": {
    "hash": "00bfc9313c58f9e362bec94650c0d763b2021dbb0e36860df6c43a45cc922ade"
   }
  }
 },
 "nbformat": 4,
 "nbformat_minor": 5
}
