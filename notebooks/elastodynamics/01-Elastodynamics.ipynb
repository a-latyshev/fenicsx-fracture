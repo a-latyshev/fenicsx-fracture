{
 "cells": [
  {
   "attachments": {},
   "cell_type": "markdown",
   "id": "f606207a-d3b1-4b52-a769-fcb99fae78fb",
   "metadata": {
    "tags": []
   },
   "source": [
    "# Elastodynamics: implicit solver\n",
    "\n",
    "Author: A. Chao Correas (arturo.chaocorreas@polito.it)"
   ]
  },
  {
   "attachments": {},
   "cell_type": "markdown",
   "id": "68eac7de-001f-412c-9e1e-133be8ea634b",
   "metadata": {
    "tags": []
   },
   "source": [
    "## Derivation of the weak form of the elastodynamics problem"
   ]
  },
  {
   "attachments": {},
   "cell_type": "markdown",
   "id": "b876d4d1",
   "metadata": {},
   "source": [
    "Let us assume an elastodynamics problem in which a domain $\\Omega$ is subjected to:\n",
    "\n",
    "1. Time-dependent displacement boundary conditions $\\underline{U}(t)$ on the Dirichlet boundary $\\partial_{u}{\\Omega}$.\n",
    "2. Time-dependent surface loads  $\\underline{f}(t)$ (Neumann BCs) along the Neumann boundary $\\partial_{f}{\\Omega}= \\partial{\\Omega} \\setminus \\partial_{u}{\\Omega}$.\n",
    "3. Time-dependent distributed body forces $\\underline{b}(t)$ in $\\Omega$.\n",
    "\n",
    "We denote by $\\underline{u}(t)$ and $\\dot{\\underline{u}}(t)$ are the displacement and velocity vector fields at the instant $t$.\n",
    "\n",
    "To fulfill the Dirichlet boundary conditions, the displacement field $\\underline{u}(t)$ must belong to the vector space $\\mathrm{V}(t)$, which is defined as:\n",
    "\n",
    "$$ \\mathrm{V}(t) = \\left\\{ \\underline{u}(t) = \\underline{U}(t) \\quad \\forall \\underline{x} \\in \\partial_{u}\\Omega \\right\\} $$\n"
   ]
  },
  {
   "attachments": {},
   "cell_type": "markdown",
   "id": "f2e8b54c",
   "metadata": {},
   "source": [
    "For an elastic body submitted to conservative external loads, the total potential energy of the system $\\mathcal{P}$ writes as:\n",
    "\n",
    "$$ \\mathcal{P}\\left(\\underline{u}(t), t\\right)  =\n",
    " %\\mathcal{P}_{K}\\left(\\dot{\\underline{u}}(t), t\\right) +\n",
    "  \\mathcal{E}\\left(\\underline{u}(t)\\right) - \\mathcal{W}_{\\mathrm{ext}}\\left(\\underline{u}(t), t\\right)\n",
    "  $$ \n",
    "where \n",
    "$$\n",
    "\\mathcal{E}\\left(\\underline{u}(t)\\right) = \n",
    "\\int_{\\Omega} \\psi \\left(\\underline{u}(\\underline{x},t)\\right) \\,\\mathrm{d}{x},\\qquad\n",
    "\\mathcal{W}_{\\mathrm{ext}}\\left(\\underline{u}(t), t\\right) = \\int_{\\Omega} \\underline{b}(\\underline{x},t) \\cdot \\underline{u}(t) \\,\\mathrm{d}{x} + \\int_{\\partial_{f}\\Omega} \\underline{f}(\\underline{x},t) \\cdot \\underline{u}(t) \\,\\mathrm{d}{s}\n",
    "$$\n",
    "are the strain energy and the work of the conservative external loads, \n",
    " $\\psi$ being the strain energy density. \n",
    "\n",
    " The kinetic energy writes as\n",
    " $$\\mathcal{K}\\left(\\dot{\\underline{u}}(t)\\right) = \\frac{1}{2} \\int_{\\Omega} \\rho \\dot{\\underline{u}}(t) \\cdot \\dot{\\underline{u}}(t) \\,\\mathrm{d}{x}$$\n"
   ]
  },
  {
   "attachments": {},
   "cell_type": "markdown",
   "id": "61dd556b",
   "metadata": {},
   "source": [
    "Using the principle of least action, one can determine the following weak formulation of the elastodynamics: \n",
    "\n",
    "$$ \\frac{\\mathrm{d}}{\\mathrm{d}t}\\left(\\mathrm{D}_{\\underline{\\dot{u}}}\\mathcal{K}\\left( \\dot{\\underline{u}}(t)\\right)\\left[\\hat{\\underline{u}} \\right]\\right) \n",
    "+\n",
    "\\mathrm{D}_{\\underline{u}} \\mathcal{P}\\left(\\underline{u}(t), \\dot{\\underline{u}}(t), t\\right)\\left[\\hat{\\underline{u}}(t) \\right] = -\\mathrm{D}_{\\underline{\\dot{u}}}\\mathcal{Q} \\left( \\dot{\\underline{u}}(t), t \\right) \\left[\\hat{\\underline{u}} \\right]$$ \n",
    "where $\\mathcal{Q} \\left( \\dot{\\underline{u}}(t), t \\right)$ is a Rayleigh dissipation functional that can be used to add  dissipative terms, as viscous forces and $\\mathrm{D}_{\\underline{u}} \\mathcal{P}(\\underline u)[\\hat{\\underline{u}}]$ denotes the directional derivative of the functional $\\mathcal{P}(\\underline u)$ along the direction $\\hat{\\underline{u}}$.\n",
    "\n",
    "In the conservative case $\\mathcal{Q}=0$ this gives:\n",
    "\n",
    "$$\n",
    "\\int_{\\Omega}\\rho\\,\\ddot{\\underline{u}}(t) \\cdot \\hat{\\underline{u}} \\,\\mathrm{d}\\underline{x} \n",
    "+ \n",
    "\\int_{\\Omega} \\frac{\\partial \\psi\\left(\\underline{u}(t)\\right)}{\\partial \\underline{u}(t)}\\cdot \\hat{\\underline{u}} \\,\\mathrm{d}\\underline{x} \n",
    "=\n",
    "\n",
    "\\int_{\\Omega} \\underline{b}(t)\\cdot \\hat{\\underline{u}}\\,\\mathrm{d}\\underline{x} + \\int_{\\partial_\\Sigma\\Omega} {\\underline{f}}(t)\\cdot \\hat{\\underline{u}} \\,\\mathrm{d}\\underline{x} \\quad \\forall \\hat{\\underline{u}} \\in \\mathrm{V}_{0}(t)\n",
    "$$\n",
    "\n",
    "Where the term $\\frac{\\partial \\psi\\left(\\underline{u}(t)\\right)}{\\partial \\underline{u}(t)}\\left(\\underline{u}(t)\\right)$ indicates that the derivative of the strain energy density with respect to the displacement field $\\underline{u}(t)$ is a function of only the displacement field. Remarkably, the presence of the acceleration $\\ddot{\\underline{u}}(t)$ in the inertial term makes the system history-dependent and, differently from the quasi-static case, the problem cannot be independently solved at each instant. As a consequence, a time integration scheme is required towards relating the acceleration and displacement fields, so that the governing equation can be entirely written in terms of the former. In what follows, the well-established Newmark $\\beta$-method for time integration will be presented and used.\n",
    "\n"
   ]
  },
  {
   "attachments": {},
   "cell_type": "markdown",
   "id": "b0ed733c-a651-4dc6-9a2c-ce84a4abf64e",
   "metadata": {},
   "source": []
  },
  {
   "attachments": {},
   "cell_type": "markdown",
   "id": "cbfe878f-6e56-4f7b-9b1d-72ee43266980",
   "metadata": {
    "tags": []
   },
   "source": [
    "# Newmark $\\beta$-method for time integration of dynamic problems\n",
    "Reference: Newmark N.M., 1959. A Method of Computation for Structural Dynamics. J Eng Mech Div. 85:67–94. https://doi.org/10.1061/JMCEA3.0000098"
   ]
  },
  {
   "attachments": {},
   "cell_type": "markdown",
   "id": "39ed7007-631b-4b38-b44d-24ed82227eec",
   "metadata": {},
   "source": [
    "Let us assume a time discretization of the temporal domain of the problem so that $t_i$ represents the latest instant at which the system's state is known, and $t_{i+1}$ is the earliest instant at which the solution is not known. On this basis, the one can define the time increment $\\Delta t_{i}$ as follows:\n",
    "\n",
    "$$ \\Delta t_{i} = t_{i+1}-t_{i}$$\n",
    "\n",
    "Then, using the extended mean value theorem, the displacement and velocity vector fields at $t_{i+1}$ can be approximated as:\n",
    "\n",
    "$$ \\underline{u}(t_{i+1}) = \\underline{u}(t_{i})+\\Delta t_{i}\\dot{\\underline{u}}(t_i)+\\frac{{\\Delta t_i}^2}{2}\\left((1-2\\beta)\\,\\ddot{\\underline{u}}(t_{i})+2\\beta\\, \\ddot{\\underline{u}}(t_{i+1}) \\right) \\quad 0\\le 2\\beta\\le1 $$\n",
    "\n",
    "$$ \\dot{\\underline{u}}(t_{i+1}) = \\dot{\\underline{u}}(t_{i})+\\Delta t_{i} \\left((1-\\gamma)\\,\\ddot{\\underline{u}}(t_{i})+\\gamma\\,\\ddot{\\underline{u}}(t_{i+1}) \\right) \\quad 0\\le\\gamma\\le1 $$\n",
    "\n",
    "where $\\beta$ and $\\gamma$ are scalar parameters that allow to modify the characteristics of the time stepping scheme by weighting how much the acceleration at the instant $t_{i+1}$, i.e. $\\ddot{\\underline{u}}(t_{i+1})$, affects $\\underline{u}(t_{i+1})$ and $\\dot{\\underline{u}}(t_{i+1})$. \n",
    "\n",
    "Generally speaking, the Newmark $\\beta$-method represents an implicit time integration scheme, for it determines the solution at $t_{i+1}$ as a function of the system state at both instants $t_{i}$ and $t_{i+1}$. Only for a specific choice of the parameters $\\beta$ and $\\gamma$, this method becomes explicit (See below). \n",
    "\n",
    "Now, particularizing the weak form of the elastodynamic problem to the instant $t=t_{i+1}$ and substituting $\\underline{u}(t_{i+1})$ by its approximation above, an equation with just $\\ddot{\\underline{u}}(t_{i+1})$ as an unknown is obtained.\n",
    "\n",
    "$$\\int_{\\Omega}\\rho\\,\\ddot{\\underline{u}}(t_{i+1}) \\cdot \\delta\\underline{u}(t)\\,\\mathrm{d}\\underline{x} + \\int_{\\Omega} \\frac{\\partial \\psi\\left(\\underline{u}(t)\\right)}{\\partial \\underline{u}(t)}\\left(\\ddot{\\underline{u}}(t_{i+1});\\, \\beta, \\underline{u}(t_{i}), \\dot{\\underline{u}}(t_{i}), \\ddot{\\underline{u}}(t_{i}) \\right) \\cdot \\delta\\underline{u}(t) \\,\\mathrm{d}\\underline{x} = \n",
    "\\int_{\\Omega} \\underline{b}(t)\\cdot \\delta\\underline{u}(t) \\,\\mathrm{d}\\underline{x} + \\int_{\\partial_\\Sigma\\Omega} {\\underline{\\Sigma}}(t)\\cdot \\delta\\underline{u}(t) \\,\\mathrm{d}\\underline{x} \\quad \\forall \\delta\\underline{u}(t) \\in \\mathcal{V}_{0}(t)$$\n"
   ]
  },
  {
   "attachments": {},
   "cell_type": "markdown",
   "id": "340fe6b2-1c41-411a-93fc-6b79330e4798",
   "metadata": {
    "tags": []
   },
   "source": [
    "## Explicit time integration scheme - Central difference scheme ($\\beta = 0$ and $\\gamma = 1/2$)"
   ]
  },
  {
   "attachments": {},
   "cell_type": "markdown",
   "id": "18ee21e3-7755-4bf6-9192-5b9003aebaf1",
   "metadata": {},
   "source": [
    "In an explicit integrator, the unknown state of the system at an instant $t_{i+1}$ is entirely determined through the propagation of the known system's state at a previous instant $t_i$, which is the case for the particular choice of $\\beta = 0$ and $\\gamma = 1/2$ in the Newmark's $\\beta$-method. Clearly, this choice implies that :\n",
    "\n",
    "* $\\ddot{\\underline{u}}(t_{i+1})$ will not play any role in the determination of $\\underline{u}(t_{i+1})$\n",
    "\n",
    "* $\\ddot{\\underline{u}}(t_{i})$ and $\\ddot{\\underline{u}}(t_{i+1})$ have the same importance in the determination of $\\dot{\\underline{u}}(t_{i+1})$\n",
    "\n",
    "Subsequently, the propagation of the displacement and velocity vector fields to the instant $t_{i+1}$ particularizes as follows:\n",
    "\n",
    "$$ \\underline{u}(t_{i+1}) = \\underline{u}(t_{i})+\\Delta t_{i}\\,\\dot{\\underline{u}}(t_i)+\\frac{{\\Delta t_{i}}^2}{2}\\,\\ddot{\\underline{u}}(t_{i}) $$\n",
    "\n",
    "$$ \\dot{\\underline{u}}(t_{i+1}) = \\dot{\\underline{u}}(t_{i})+\\frac{\\Delta t_{i}}{2} \\left(\\ddot{\\underline{u}}(t_{i})+\\ddot{\\underline{u}}(t_{i+1}) \\right) $$\n",
    "\n",
    "As a consequence, the displacement field $\\underline{u}(t_{i+1})$ can be entirely determined on the basis of the last known system's state, i.e. $\\underline{u}(t_{i})$, $\\dot{\\underline{u}}(t_i)$ and $\\ddot{\\underline{u}}(t_{i})$. On the other hand, the velocity field can only be updated once the acceleration $\\ddot{\\underline{u}}(t_{i+1})$ is known. Nonetheless, particularizing the the weak form of the elastodynamics problem for the instant $t_{i+1}$:\n",
    "\n",
    "$$\\int_{\\Omega}\\rho\\,\\ddot{\\underline{u}}(t_{i+1}) \\cdot \\hat{\\underline{u}}\\,\\mathrm{d}\\underline{x} \n",
    "= \n",
    "- \n",
    "\\int_{\\Omega} \\frac{\\partial \\psi\\left(\\underline{u}(t)\\right)}{\\partial \\underline{u}(t)}\n",
    "\\left(\\underline{u}(t_{i}), \\dot{\\underline{u}}(t_{i}), \\ddot{\\underline{u}}(t_{i})\\right) \n",
    "\\cdot \n",
    "\\hat{\\underline{u}}\\,\\mathrm{d}\\underline{x} \n",
    "+ \n",
    "\\int_{\\Omega} \\underline{b}(t_{i+1})\\cdot \\hat{\\underline{u}} \\,\\mathrm{d}\\underline{x} + \\int_{\\partial_t\\Omega} \\underline{f}(t_{i+1})\\cdot \\hat{\\underline{u}} \\,\\mathrm{d}\\underline{s} \\quad \\forall \\hat{\\underline{u}}\\in \\mathcal{V}_{0}$$\n",
    "\n",
    "in which the right hand side is completely known once the displacement field is propagated to $t_{i+1}$. Therefore, the equation above allows to determine the acceleration $\\ddot{\\underline{u}}(t_{i+1})$ required for the estimation of $\\dot{\\underline{u}}(t_{i+1})$, and so the elastodynamics problem is solved."
   ]
  },
  {
   "attachments": {},
   "cell_type": "markdown",
   "id": "41b9d37b-128c-403f-bfb0-d4b3cff99251",
   "metadata": {
    "tags": []
   },
   "source": [
    "# Numerical implementation in dolfinx"
   ]
  },
  {
   "attachments": {},
   "cell_type": "markdown",
   "id": "f1eeaf79-4a62-4efd-b64c-85ee14013bd5",
   "metadata": {},
   "source": [
    "Import required libraries"
   ]
  },
  {
   "cell_type": "code",
   "execution_count": 1,
   "id": "d7a9051a-08c9-4801-a46d-4dd038481b56",
   "metadata": {},
   "outputs": [],
   "source": [
    "import dolfinx, ufl\n",
    "import numpy as np\n",
    "import sympy as sp\n",
    "from mpi4py import MPI\n",
    "from petsc4py import PETSc\n",
    "from matplotlib import pyplot as plt\n",
    "import sys\n",
    "sys.path.append(\"../utils/\")\n",
    "\n",
    "import mesh_plotter\n",
    "from petsc_problems import SNESProblem"
   ]
  },
  {
   "attachments": {},
   "cell_type": "markdown",
   "id": "1bb039bb-d419-437a-ba45-17f1b1baa3d8",
   "metadata": {},
   "source": [
    "Input parameters"
   ]
  },
  {
   "cell_type": "code",
   "execution_count": 2,
   "id": "890d4817-5f87-4dbb-891d-3b8a1ba15524",
   "metadata": {},
   "outputs": [],
   "source": [
    "# Characteristic dimensions of the domain\n",
    "geometry_parameters = {'Lx': 1., \n",
    "                       'Ly': 0.1}\n",
    "\n",
    "# Regularization length               \n",
    "material_properties = {'E':   3e3, \n",
    "                       'nu':  0.3, \n",
    "                       'rho': 1.8e-9}\n",
    "\n",
    "# Mesh control\n",
    "mesh_parameters = {'nx': 10,\n",
    "                   'ny': 1}\n",
    "\n",
    "# Time stepping control\n",
    "timestepping_parameters = {'initial_time':0., \n",
    "                           'total_time':20e-6, \n",
    "                           'delta_t':1.e-8,\n",
    "                           'explicit_safety_factor': 5}\n",
    "\n",
    "# Time integration control (\\beta-method)\n",
    "timeintegration_parameters = {'beta': 0.25,\n",
    "                              'gamma': 0.5}\n",
    "\n",
    "# Top facet displacement\n",
    "T_0 = 0.\n",
    "T_1 = 2.5e-6\n",
    "U_t = 1e-2\n",
    "\n",
    "t_sp = sp.Symbol('t', real = True)\n",
    "U_imp = sp.Piecewise((0, t_sp<T_0),\n",
    "                     (0.5*U_t*(1-sp.cos(((t_sp-T_0)/(T_1-T_0))*sp.pi)), t_sp<=T_1),\n",
    "                     (U_t, True)) \n",
    "V_imp = sp.diff(U_imp, t_sp)\n",
    "A_imp = sp.diff(V_imp, t_sp)\n",
    "\n",
    "# Body forces\n",
    "Xi = np.asarray([0.,0.])"
   ]
  },
  {
   "attachments": {},
   "cell_type": "markdown",
   "id": "fda0fee1-cc17-43dc-bf2c-27c828c7a440",
   "metadata": {},
   "source": [
    "Loading on the right"
   ]
  },
  {
   "cell_type": "code",
   "execution_count": 3,
   "id": "c8f57cb6-0c52-4448-a1c7-896481cf5242",
   "metadata": {},
   "outputs": [
    {
     "data": {
      "image/png": "[encoded data removed]",
      "text/plain": [
       "<Figure size 1800x600 with 3 Axes>"
      ]
     },
     "metadata": {},
     "output_type": "display_data"
    }
   ],
   "source": [
    "t_sampling = np.linspace(timestepping_parameters['initial_time'], \n",
    "                         timestepping_parameters['total_time'], \n",
    "                         1000) \n",
    "U_imp_sampling = np.zeros_like(t_sampling)\n",
    "V_imp_sampling = np.zeros_like(t_sampling)\n",
    "A_imp_sampling = np.zeros_like(t_sampling)\n",
    "\n",
    "for i in enumerate (t_sampling):\n",
    "    U_imp_sampling[i[0]] = U_imp.subs({t_sp:t_sampling[i[0]]})\n",
    "    V_imp_sampling[i[0]] = V_imp.subs({t_sp:t_sampling[i[0]]})\n",
    "    A_imp_sampling[i[0]] = A_imp.subs({t_sp:t_sampling[i[0]]})\n",
    "    \n",
    "fig, ax = plt.subplots(1, 3, figsize=(18,6))\n",
    "ax[0].plot(t_sampling, U_imp_sampling, ls='none', marker='.')\n",
    "ax[0].set_xlabel('Time [s]')\n",
    "ax[0].set_ylabel('Displacement [mm]')\n",
    "ax[1].plot(t_sampling, V_imp_sampling, ls='none', marker='.')\n",
    "ax[1].set_xlabel('Time [s]')\n",
    "ax[1].set_ylabel('Velocity [mm/s]')\n",
    "ax[2].plot(t_sampling, A_imp_sampling, ls='none', marker='.')\n",
    "ax[2].set_xlabel('Time [s]')\n",
    "ax[2].set_ylabel('Acceleration [mm/s2]');"
   ]
  },
  {
   "attachments": {},
   "cell_type": "markdown",
   "id": "c0d3dd62-0797-403c-94a7-3a0349d883ab",
   "metadata": {},
   "source": [
    "Mesh, geometrical regions of interest and measures"
   ]
  },
  {
   "cell_type": "code",
   "execution_count": 4,
   "id": "d1dfdf52-5f98-4914-8231-7aac7d5906af",
   "metadata": {
    "tags": []
   },
   "outputs": [],
   "source": [
    "mesh = dolfinx.mesh.create_rectangle(MPI.COMM_WORLD, \n",
    "                                     [np.array([-geometry_parameters['Lx']/2, -geometry_parameters['Ly']/2]), \n",
    "                                      np.array([+geometry_parameters['Lx']/2, +geometry_parameters['Ly']/2])], \n",
    "                                     [mesh_parameters['nx'], mesh_parameters['ny']], \n",
    "                                     dolfinx.mesh.CellType.triangle)\n",
    "#mesh_plotter(mesh)"
   ]
  },
  {
   "cell_type": "code",
   "execution_count": 5,
   "id": "2c714110-ed24-47e0-a024-2dfc318cd4b4",
   "metadata": {},
   "outputs": [],
   "source": [
    "# Geometrical regions  \n",
    "def top(x):\n",
    "    return np.isclose(x[1], +geometry_parameters[\"Ly\"]/2)\n",
    "def bottom(x):\n",
    "    return np.isclose(x[1], -geometry_parameters[\"Ly\"]/2)\n",
    "def right (x):\n",
    "    return np.isclose(x[0], +geometry_parameters[\"Lx\"]/2)\n",
    "def left (x):\n",
    "    return np.isclose(x[0], -geometry_parameters[\"Lx\"]/2)\n",
    "\n",
    "# Geometrical sets\n",
    "top_facets = dolfinx.mesh.locate_entities_boundary(mesh, mesh.topology.dim-1, top)\n",
    "bottom_facets = dolfinx.mesh.locate_entities_boundary(mesh, mesh.topology.dim-1, bottom)\n",
    "right_facets = dolfinx.mesh.locate_entities(mesh, mesh.topology.dim-1, right)\n",
    "left_facets = dolfinx.mesh.locate_entities(mesh, mesh.topology.dim-1, left)\n",
    "\n",
    "tagged_facets = np.hstack([top_facets, bottom_facets, right_facets, left_facets])\n",
    "tag_values = np.hstack([np.full_like(top_facets, 1), \n",
    "                        np.full_like(bottom_facets, 2),\n",
    "                        np.full_like(right_facets, 3),\n",
    "                        np.full_like(left_facets, 4)])\n",
    "tagged_facets_sorted = np.argsort(tagged_facets)\n",
    "mt = dolfinx.mesh.meshtags(mesh, mesh.topology.dim-1, \n",
    "                           tagged_facets[tagged_facets_sorted], \n",
    "                           tag_values[tagged_facets_sorted])\n",
    "\n",
    "# Domain and subdomain measures\n",
    "dx  = ufl.Measure(\"dx\", domain=mesh)                         # Domain measure\n",
    "ds  = ufl.Measure(\"ds\", domain=mesh, subdomain_data=mt)      # External Boundary measure\n",
    "dS  = ufl.Measure(\"dS\", domain=mesh, subdomain_data=mt)      # External/Internal measure\n",
    "n   = ufl.FacetNormal(mesh)                                  # External normal to the boundary"
   ]
  },
  {
   "attachments": {},
   "cell_type": "markdown",
   "id": "fe7bfc81-3e75-47f2-8f52-41c30a24aea6",
   "metadata": {},
   "source": [
    "Function spaces, functions and system's state"
   ]
  },
  {
   "cell_type": "code",
   "execution_count": 6,
   "id": "9b58a202-03f2-4545-8843-61c4bb70e818",
   "metadata": {},
   "outputs": [],
   "source": [
    "# --------- Main functions and function spaces\n",
    "element_u = ufl.VectorElement('CG', mesh.ufl_cell(), degree=1, dim=mesh.topology.dim)\n",
    "V_u = dolfinx.fem.FunctionSpace(mesh, element_u)\n",
    "u = dolfinx.fem.Function(V_u, name=\"Displacement\")\n",
    "u_new = dolfinx.fem.Function(V_u)\n",
    "v = dolfinx.fem.Function(V_u, name=\"Velocity\")\n",
    "v_new = dolfinx.fem.Function(V_u)\n",
    "a = dolfinx.fem.Function(V_u, name=\"Acceleration\")\n",
    "a_new = dolfinx.fem.Function(V_u)\n",
    "\n",
    "# --------- Auxiliar functions\n",
    "ones_a = dolfinx.fem.Function(V_u)\n",
    "\n",
    "# --------- State of each field \n",
    "state = {\"u\": u,\"v\": v,\"a\": a}"
   ]
  },
  {
   "attachments": {},
   "cell_type": "markdown",
   "id": "f8acd833-02a6-4e0c-ae49-58496c0c4fb0",
   "metadata": {},
   "source": [
    "Boundary conditions"
   ]
  },
  {
   "cell_type": "code",
   "execution_count": 7,
   "id": "fc5f6446-de4f-4d57-a299-189b62b3ce29",
   "metadata": {},
   "outputs": [],
   "source": [
    "# --------- Displacement problem -----------------------------------------------------\n",
    "# Definition of the values for the blocked displacement DoFs\n",
    "V_ux = V_u.sub(0)\n",
    "V_uy = V_u.sub(1)\n",
    "\n",
    "# Clamped left (ux=uy=0) \n",
    "zero_u = dolfinx.fem.Function(V_u)\n",
    "blocked_dofs_left_u = dolfinx.fem.locate_dofs_geometrical(V_u, left)\n",
    "bc_u_left = dolfinx.fem.dirichletbc(zero_u, blocked_dofs_left_u)\n",
    "\n",
    "# Imposed displacement right (ux=U_imp(t))\n",
    "right_ux = dolfinx.fem.Function(V_ux.collapse()[0])\n",
    "blocked_dofs_top_ux = dolfinx.fem.locate_dofs_geometrical((V_ux, V_ux.collapse()[0]), right)\n",
    "bc_ux_right = dolfinx.fem.dirichletbc(right_ux, blocked_dofs_top_ux, V_ux)\n",
    "\n",
    "# Concatenate u-BCs\n",
    "bcs_u = [bc_u_left, bc_ux_right]\n",
    "\n",
    "# --------- Velocity problem -----------------------------------------------------\n",
    "zero_v = dolfinx.fem.Function(V_u)\n",
    "bc_v_left = dolfinx.fem.dirichletbc(zero_v, blocked_dofs_left_u)\n",
    "\n",
    "right_vx = dolfinx.fem.Function(V_ux.collapse()[0])\n",
    "bc_ux_right = dolfinx.fem.dirichletbc(right_vx, blocked_dofs_top_ux, V_ux)\n",
    "\n",
    "bcs_v = [bc_v_left, bc_ux_right]\n",
    "\n",
    "# --------- Acceleration problem -----------------------------------------------------\n",
    "zero_a = dolfinx.fem.Function(V_u)\n",
    "bc_a_left = dolfinx.fem.dirichletbc(zero_a, blocked_dofs_left_u)\n",
    "\n",
    "right_ax = dolfinx.fem.Function(V_ux.collapse()[0])\n",
    "bc_ax_right = dolfinx.fem.dirichletbc(right_ax, blocked_dofs_top_ux, V_ux)\n",
    "\n",
    "bcs_a = [bc_a_left, bc_ax_right]\n"
   ]
  },
  {
   "attachments": {},
   "cell_type": "markdown",
   "id": "bc867574-54bf-48e9-b71c-a480e94b40a8",
   "metadata": {},
   "source": [
    "Variational magnitudes"
   ]
  },
  {
   "cell_type": "code",
   "execution_count": 8,
   "id": "9ed2c860-04fe-44dd-a57c-1fc888b49763",
   "metadata": {},
   "outputs": [],
   "source": [
    "t = dolfinx.fem.Constant(mesh, 0.)\n",
    "\n",
    "# Material properties\n",
    "E   = dolfinx.fem.Constant(mesh, material_properties[\"E\"])\n",
    "nu  = dolfinx.fem.Constant(mesh, material_properties[\"nu\"])\n",
    "rho = dolfinx.fem.Constant(mesh, material_properties[\"rho\"])\n",
    "\n",
    "# Body forces\n",
    "b = dolfinx.fem.Constant(mesh, Xi)\n",
    "\n",
    "# Lame constants (Plane strain)\n",
    "mu    = E / (2.0 * (1.0 + nu))\n",
    "lmbda = E * nu / ((1.0 + nu) * (1.0 - 2.0 * nu))\n",
    "\n",
    "## Infinitesimal strain tensor\n",
    "eps = ufl.variable(ufl.sym(ufl.grad(u)))\n",
    "\n",
    "## Kinetic energy density\n",
    "kinetic_energy_density = 0.5 * rho * ufl.inner(v,v)\n",
    "\n",
    "## Strain energy density (Linear elastic)\n",
    "elastic_energy_density = lmbda / 2 * ufl.tr(eps) ** 2 + mu * ufl.inner(eps,eps)\n",
    "\n",
    "# Stress tensor\n",
    "sigma = ufl.diff(elastic_energy_density, eps)\n",
    "\n",
    "# System's energies and Lagrangian\n",
    "elastic_energy = elastic_energy_density * dx \n",
    "external_work = ufl.dot(b,u) * dx \n",
    "potential_energy = elastic_energy - external_work\n",
    "kinetic_energy = kinetic_energy_density * dx\n",
    "lagrangian = kinetic_energy - potential_energy\n",
    "total_energy = kinetic_energy + potential_energy\n",
    "\n",
    "# Lagrangian derivatives\n",
    "u_test = ufl.TestFunction(V_u)\n",
    "P_du = ufl.derivative(potential_energy, u, u_test) \n",
    "K_dv = ufl.derivative(kinetic_energy, v, u_test)\n",
    "\n",
    "# Residual \n",
    "Res = K_dv + P_du"
   ]
  },
  {
   "attachments": {},
   "cell_type": "markdown",
   "id": "6fc6dd28-9eb8-46ef-a725-26df85d19364",
   "metadata": {},
   "source": [
    "## Iterative resolution"
   ]
  },
  {
   "cell_type": "code",
   "execution_count": 9,
   "id": "058ac320",
   "metadata": {},
   "outputs": [],
   "source": [
    "delta_t_0 = timestepping_parameters['delta_t']\n",
    "total_time =timestepping_parameters[\"total_time\"]\n",
    "beta = timeintegration_parameters['beta']\n",
    "gamma = timeintegration_parameters['gamma']\n",
    "\n",
    "# Time increment\n",
    "def delta_t(t):\n",
    "    return float(ufl.conditional(ufl.lt(delta_t_0,total_time-t), \n",
    "                                delta_t_0,\n",
    "                                total_time - t)\n",
    "                 )\n",
    "\n",
    "# Approximation of u\n",
    "def u_apr (t, u, v, a, a_new):\n",
    "    return (u + delta_t(t) * v + \n",
    "            0.5 * delta_t(t) ** 2 * ((1 - 2 * beta) * a + 2 * beta * a_new))\n",
    "\n",
    "# Approximation of v\n",
    "def v_apr (t, v, a, a_new):\n",
    "    return (v + delta_t(t) * ((1 - gamma) * a + gamma * a_new))\n"
   ]
  },
  {
   "attachments": {},
   "cell_type": "markdown",
   "id": "cf88f4a5-20e7-4973-a9b8-f4addb9ad963",
   "metadata": {},
   "source": []
  },
  {
   "attachments": {},
   "cell_type": "markdown",
   "id": "f0915afc-f994-4fa7-989b-4132121046ac",
   "metadata": {},
   "source": [
    "Acceleration solver"
   ]
  },
  {
   "cell_type": "code",
   "execution_count": 10,
   "id": "7cf00a62-0960-4dad-b749-84d9186923b1",
   "metadata": {},
   "outputs": [],
   "source": [
    "## --------- Acceleration explicit problem ----------------------------------------------------\n",
    "Res_beta = ufl.replace(Res, {v: a_new, u: u_apr (t, u, v, a, a_new)})\n",
    "Res_beta_da = ufl.derivative(Res_beta, a_new, ufl.TrialFunction(V_u)) \n",
    "\n",
    "a_problem = SNESProblem(Res_beta, a_new, bcs_a, J=Res_beta_da)\n",
    "b_vector = dolfinx.la.create_petsc_vector(V_u.dofmap.index_map, V_u.dofmap.index_map_bs)\n",
    "J_matrix = dolfinx.fem.petsc.create_matrix(dolfinx.fem.form(a_problem.a))\n",
    "\n",
    "# Acceleration Solver (with consistent mass matrix)\n",
    "solver_a_snes = PETSc.SNES().create()\n",
    "solver_a_snes.setType(\"ksponly\")\n",
    "solver_a_snes.setFunction(a_problem.F, b_vector)\n",
    "solver_a_snes.setJacobian(a_problem.J, J_matrix)\n",
    "solver_a_snes.setTolerances(rtol=1.0e-9, max_it=15)\n",
    "solver_a_snes.getKSP().setType(\"preonly\")\n",
    "solver_a_snes.getKSP().setTolerances(rtol=1.0e-9)\n",
    "solver_a_snes.getKSP().getPC().setType(\"lu\")"
   ]
  },
  {
   "attachments": {},
   "cell_type": "markdown",
   "id": "2b17fe85-0de3-4405-85ea-c0624332bef2",
   "metadata": {},
   "source": [
    "Magnitudes of interest"
   ]
  },
  {
   "cell_type": "code",
   "execution_count": 11,
   "id": "0fd8128c-bd59-4d37-92f4-14a92a671393",
   "metadata": {},
   "outputs": [],
   "source": [
    "kinetic_energy_form = dolfinx.fem.form(kinetic_energy)\n",
    "elastic_energy_form = dolfinx.fem.form(elastic_energy)\n",
    "potential_energy_form = dolfinx.fem.form(potential_energy)\n",
    "total_energy_form = dolfinx.fem.form(potential_energy + kinetic_energy)\n",
    "Fx_react_right_form = dolfinx.fem.form(ufl.inner(n,sigma*n)*ds(3))"
   ]
  },
  {
   "attachments": {},
   "cell_type": "markdown",
   "id": "574fcc74-5db4-4bc0-bdf8-b613e27c9e4a",
   "metadata": {},
   "source": [
    "Iterative resolution"
   ]
  },
  {
   "cell_type": "code",
   "execution_count": 12,
   "id": "73370943-6f0f-4262-9822-ed45805ae79d",
   "metadata": {},
   "outputs": [],
   "source": [
    "# Initialization\n",
    "t.value = timestepping_parameters[\"initial_time\"]\n",
    "\n",
    "kinetic_energies = []\n",
    "elastic_energies = []\n",
    "external_works = []\n",
    "potential_energies =[]\n",
    "Fx_react_right_s = []\n",
    "ts = []\n",
    "\n",
    "ones_a.x.array[:] = 1.\n",
    "for func in [u,v,a,zero_u,zero_v,zero_a] :\n",
    "    func.x.array[:] = 0.\n",
    "\n",
    "xdmf = dolfinx.io.XDMFFile(mesh.comm, \"implicit_dynamics.xdmf\", \"w\")\n",
    "xdmf.write_mesh(mesh)\n",
    "xdmf.write_function(u, t.value)\n",
    "## ------------- TIME STEPPING\n",
    "\n",
    "while t.value < total_time :\n",
    "    \n",
    "    # Update displacement boundary conditions      \n",
    "    right_ux.x.array[:] = float(U_imp.subs({t_sp:t.value}))\n",
    "    right_vx.x.array[:] = float(V_imp.subs({t_sp:t.value}))\n",
    "    right_ax.x.array[:] = float(A_imp.subs({t_sp:t.value}))\n",
    "\n",
    "    # Update acceleration\n",
    "    solver_a_snes.solve(None, a_new.vector)\n",
    "    a_new.vector.ghostUpdate(addv=PETSc.InsertMode.INSERT, mode=PETSc.ScatterMode.FORWARD)\n",
    "    \n",
    "    # Update displacement field    \n",
    "    (u_apr(t.value, u.vector, v.vector, a.vector, a_new.vector)).copy(u_new.vector)\n",
    "    u_new.vector.ghostUpdate(addv=PETSc.InsertMode.INSERT, mode=PETSc.ScatterMode.FORWARD)\n",
    "    dolfinx.fem.set_bc(u_new.vector,bcs_u)\n",
    "    u_new.vector.ghostUpdate(addv=PETSc.InsertMode.INSERT, mode=PETSc.ScatterMode.FORWARD)\n",
    "    \n",
    "    # Update velocity\n",
    "    (v_apr (t.value, v.vector, a.vector, a_new.vector)).copy(v_new.vector)\n",
    "    v_new.vector.ghostUpdate(addv=PETSc.InsertMode.INSERT, mode=PETSc.ScatterMode.FORWARD)\n",
    "    dolfinx.fem.set_bc(v_new.vector,bcs_v)\n",
    "    v_new.vector.ghostUpdate(addv=PETSc.InsertMode.INSERT, mode=PETSc.ScatterMode.FORWARD)\n",
    "\n",
    "    # Copy i+1 into i\n",
    "    u.x.array[:] = u_new.x.array\n",
    "    v.x.array[:] = v_new.x.array\n",
    "    a.x.array[:] = a_new.x.array\n",
    "    \n",
    "    t.value += delta_t(t.value)\n",
    "    \n",
    "    kinetic_energies = np.concatenate((kinetic_energies,\n",
    "                            [MPI.COMM_WORLD.allreduce(dolfinx.fem.assemble_scalar(kinetic_energy_form), op=MPI.SUM)]))\n",
    "    \n",
    "    elastic_energies = np.concatenate((elastic_energies,\n",
    "                            [MPI.COMM_WORLD.allreduce(dolfinx.fem.assemble_scalar(elastic_energy_form), op=MPI.SUM)]))\n",
    "    \n",
    "    potential_energies = np.concatenate((elastic_energies,\n",
    "                            [MPI.COMM_WORLD.allreduce(dolfinx.fem.assemble_scalar(potential_energy_form), op=MPI.SUM)]))\n",
    "    \n",
    "    Fx_react_right_s = np.concatenate((Fx_react_right_s,\n",
    "                            [MPI.COMM_WORLD.allreduce(dolfinx.fem.assemble_scalar(Fx_react_right_form), op=MPI.SUM)]))\n",
    "    \n",
    "    ts = np.concatenate((ts,[t.value]))\n",
    "    \n",
    "    # save displacement\n",
    "    xdmf.write_function(u, t.value)"
   ]
  },
  {
   "cell_type": "code",
   "execution_count": 13,
   "id": "60145f4a-ca2e-44fd-9ca8-7d22d86f9a86",
   "metadata": {},
   "outputs": [
    {
     "ename": "NameError",
     "evalue": "name 'Fx_react_right_' is not defined",
     "output_type": "error",
     "traceback": [
      "\u001b[0;31m---------------------------------------------------------------------------\u001b[0m",
      "\u001b[0;31mNameError\u001b[0m                                 Traceback (most recent call last)",
      "Cell \u001b[0;32mIn[13], line 10\u001b[0m\n\u001b[1;32m      7\u001b[0m ax2[\u001b[39m0\u001b[39m]\u001b[39m.\u001b[39mset_ylabel(\u001b[39m'\u001b[39m\u001b[39mEnergy [mJ]\u001b[39m\u001b[39m'\u001b[39m)\n\u001b[1;32m      8\u001b[0m ax2[\u001b[39m0\u001b[39m]\u001b[39m.\u001b[39mlegend()\n\u001b[0;32m---> 10\u001b[0m ax2[\u001b[39m1\u001b[39m]\u001b[39m.\u001b[39mplot (ts, Fx_react_right_)\n\u001b[1;32m     11\u001b[0m ax2[\u001b[39m1\u001b[39m]\u001b[39m.\u001b[39mset_xlabel(\u001b[39m'\u001b[39m\u001b[39mTime [s]\u001b[39m\u001b[39m'\u001b[39m)\n\u001b[1;32m     12\u001b[0m ax2[\u001b[39m1\u001b[39m]\u001b[39m.\u001b[39mset_ylabel(\u001b[39m'\u001b[39m\u001b[39mReaction force [N]\u001b[39m\u001b[39m'\u001b[39m)\n",
      "\u001b[0;31mNameError\u001b[0m: name 'Fx_react_right_' is not defined"
     ]
    },
    {
     "data": {
      "image/png": "[encoded data removed]",
      "text/plain": [
       "<Figure size 1800x600 with 2 Axes>"
      ]
     },
     "metadata": {},
     "output_type": "display_data"
    }
   ],
   "source": [
    "fig2, ax2 = plt.subplots(1, 2, figsize=(18,6))\n",
    "\n",
    "ax2[0].plot (ts, kinetic_energies, label = 'Kinetic energy')\n",
    "ax2[0].plot (ts, elastic_energies, label = 'Strain energy')\n",
    "ax2[0].plot (ts, kinetic_energies + elastic_energies, label = 'Total energy')\n",
    "ax2[0].set_xlabel('Time [s]')\n",
    "ax2[0].set_ylabel('Energy [mJ]')\n",
    "ax2[0].legend()\n",
    "\n",
    "ax2[1].plot (ts, Fx_react_right_)\n",
    "ax2[1].set_xlabel('Time [s]')\n",
    "ax2[1].set_ylabel('Reaction force [N]')"
   ]
  },
  {
   "cell_type": "code",
   "execution_count": null,
   "id": "ced14a95-2b47-4536-b58b-9640f6cc2a24",
   "metadata": {},
   "outputs": [],
   "source": []
  }
 ],
 "metadata": {
  "jupytext": {
   "formats": "ipynb,py:percent"
  },
  "kernelspec": {
   "display_name": "Python 3 (ipykernel)",
   "language": "python",
   "name": "python3"
  },
  "language_info": {
   "codemirror_mode": {
    "name": "ipython",
    "version": 3
   },
   "file_extension": ".py",
   "mimetype": "text/x-python",
   "name": "python",
   "nbconvert_exporter": "python",
   "pygments_lexer": "ipython3",
   "version": "3.10.11"
  }
 },
 "nbformat": 4,
 "nbformat_minor": 5
}
