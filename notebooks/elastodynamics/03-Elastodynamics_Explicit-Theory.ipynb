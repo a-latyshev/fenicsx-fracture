{
 "cells": [
  {
   "cell_type": "markdown",
   "id": "f606207a-d3b1-4b52-a769-fcb99fae78fb",
   "metadata": {
    "tags": []
   },
   "source": [
    "# Optimized explicit solver for the elastodynamics problem\n",
    "\n",
    "__Authors__: A. Chao Correas (arturo.chaocorreas@polito.it) and C. Maurini (corrado.maurini@sorbonne-universite.fr)"
   ]
  },
  {
   "cell_type": "markdown",
   "id": "51686655-e2ca-4645-b976-5a5270af83fb",
   "metadata": {},
   "source": [
    "## Explicit time integration scheme"
   ]
  },
  {
   "cell_type": "markdown",
   "id": "d8ef1b54-ae26-4f92-98af-9d72026fb1de",
   "metadata": {},
   "source": [
    "In an explicit time integrator, the independent unknown of the system at an instant $t_{i+1}$ (typically $\\ddot{\\underline{u}}$) is entirely determined through the propagation of the known system's state at a previous instant $t_i$. According to this, Newmark's $\\beta$-Method becomes an explicit time integrator for the elastodynamics problem whenever the dissipative power $\\mathcal{Q}$ and $\\beta$ are both null. The latter choice is often accompanied by setting $\\gamma = 1/2$, leading to the so-called \"Central difference method\". Subsequently, Newmark's approximation of the displacement and velocity propagations to the instant $t_{i+1}$ particularizes as follows:\n",
    "\n",
    "$$ \n",
    "\\underline{u}_{t_{i+1}} (\\underline{x})\n",
    "\\approx\n",
    "\\underline{u}_{i+1} \\left(\\underline{x};\\, \\underline{u}_{i}, \\dot{\\underline{u}}_{i}, \\ddot{\\underline{u}}_{i} \\right)\n",
    "=\n",
    "\\underline{u}_{i} (\\underline{x})\n",
    "+\n",
    "\\Delta t_{i}\\,\\dot{\\underline{u}}_i (\\underline{x})\n",
    "+\n",
    "\\frac{{\\Delta t_{i}}^2}{2}\\,\\ddot{\\underline{u}}_{i} (\\underline{x})\n",
    "$$\n",
    "\n",
    "$$ \n",
    "\\dot{\\underline{u}}_{t_{i+1}} (\\underline{x})\n",
    "\\approx\n",
    "\\dot{\\underline{u}}_{i+1} \\left(\\underline{x};\\, \\dot{\\underline{u}}_{i}, \\ddot{\\underline{u}}_{i} \\right)\n",
    "= \n",
    "\\dot{\\underline{u}}_{i} (\\underline{x})\n",
    "+\n",
    "\\frac{\\Delta t_{i}}{2} \\left(\\ddot{\\underline{u}}_{i} (\\underline{x})+\\ddot{\\underline{u}}_{i+1} (\\underline{x}) \\right) \n",
    "$$\n",
    "\n",
    "Clearly, these relations imply that :\n",
    "\n",
    "* $\\ddot{\\underline{u}}_{i+1}$ will not play any role in the determination of $\\underline{u}_{i+1}$\n",
    "\n",
    "* The velocity $\\dot{\\underline{u}}_{i+1}$ is propagated from $\\dot{\\underline{u}}_{i}$ using the mean value of $\\ddot{\\underline{u}}_{i}$ and $\\ddot{\\underline{u}}_{i+1}$\n",
    "\n",
    "As a consequence, the displacement field $\\underline{u}_{i+1}$ can be entirely determined on the basis of the last known system's state, i.e. $\\underline{u}_{i}$, $\\dot{\\underline{u}}_i$ and $\\ddot{\\underline{u}}_{i}$. Therefore, considering the conservative case $\\left( \\mathcal{Q}=0 \\right)$, the particularization of the weak form to the instant $t_{i+1}$ after substituting $\\ddot{\\underline{u}}_{t}$ and $\\underline{u}_{t}$ by their Newmark approximations gives the following expression:\n",
    "\n",
    "$$\n",
    "\\int_{\\Omega}\\rho\\,\\ddot{\\underline{u}}_{i+1}(\\underline{x}) \\cdot \\hat{\\underline{u}}(\\underline{x})\\,\\mathrm{d}x\n",
    "= \n",
    "-\\int_{\\Omega} \\underline{\\underline{\\sigma}}\\left(\\underline{\\underline{\\varepsilon}}(\\underline{u}_{i+1}, \\underline{x}),\\underline{x}\\right) : \\underline{\\underline{\\varepsilon}}(\\hat {\\underline{u}}, \\underline{x}) \\,\\mathrm{d}x \n",
    "+ \n",
    "\\int_{\\Omega} \\underline{b}_{i+1}(\\underline{x}) \\cdot \\underline{\\hat u}(\\underline{x}) \\,\\mathrm{d}x + \n",
    "\\int_{\\partial_f\\Omega} {\\underline{f}}_{i+1}(\\underline{x}) \\cdot \\underline{\\hat u}(\\underline{x}) \\,\\mathrm{d}x\n",
    "\\quad \\forall \\underline{\\hat u}(\\underline{x}) \\in \\mathrm{V}_{0}\n",
    "$$\n",
    "\n",
    "in which the sole unknown is $\\ddot{\\underline{u}}_{i+1}$, and $\\underline{u}_{i}$, $\\dot{\\underline{u}}_{i}$ and $\\ddot{\\underline{u}}_{i}$ are known parameters. Consequently, the acceleration $\\ddot{\\underline{u}}_{i+1}$ is obtained from the resolution of the equation above, which once determined, allows for also propagating the velocity and determine $\\dot{\\underline{u}}_{i+1}$, thus rendering the state at $t_{i+1}$ fully determined."
   ]
  },
  {
   "cell_type": "markdown",
   "id": "d8095d1d-7e08-4f55-90bf-e5de1f1712a2",
   "metadata": {},
   "source": [
    "### Stability of the solution"
   ]
  },
  {
   "cell_type": "markdown",
   "id": "03312954-6c15-4b2b-a78b-8a139a8393b6",
   "metadata": {},
   "source": [
    "The explicitness of the expression used to determine the independent unknown of the elastodynamics problem, i.e. $\\ddot{\\underline{u}}_{i+1}$, leads to a much simpler and computationally cheaper approach. Nonetheless, this comes at the cost of a resolution scheme that is not unconditionally stable with respect to the magnitude of $\\Delta t$. In fact, for it to be stable, the Courant–Friedrichs–Lewy (CFL) condition must be satisfied, which mathematically writes in the absence of damping as:\n",
    "\n",
    "$$\n",
    "\\Delta t \n",
    "<\n",
    "\\frac{2}{\\omega_{\\mathrm{max}}}\n",
    "$$\n",
    "\n",
    "where $\\omega_{\\mathrm{max}}$ represents the highest natural frequency in the model. Nonetheless, since the latter is not known _a priori_ and its computation might result expensive, it is common to substitute the CFL condition above by the estimate:\n",
    "\n",
    "$$\n",
    "\\Delta t \n",
    "<\n",
    "\\frac{h_{min}}{\\eta c}\n",
    "$$\n",
    "\n",
    "\n",
    "where $h_{min}$ represents the minimum distance between nodes within the discretized domain, $\\eta$ is a safety factor larger than 1 and $c$ stands for the speed of sound in the respective continuum, which in turn is proportional to $\\sqrt{E/\\rho}$. Conceptually, this condition can be undertood as the requirement for the resolution of the temporal discretization to be small enough so it is ensured to be able to capture the minimum time required for the information to travel between any two nodes within the domain. "
   ]
  },
  {
   "cell_type": "markdown",
   "id": "13379d5d-d743-4579-94a6-6cc4a2811e0a",
   "metadata": {},
   "source": [
    "### Viscous dissipation in explicit solvers"
   ]
  },
  {
   "cell_type": "markdown",
   "id": "51d96176-7c6c-47c5-9bc7-e57e1fac61a5",
   "metadata": {},
   "source": [
    "Strictly speaking, the conventional explicit version of the Newmark $\\beta$-method does not allow for incoporating a dissipative term that depends on $\\dot{\\underline{u}}$. This arises from the dependence of the latter's approximation at the instant $t_{i+1}$, i.e. $\\dot{\\underline{u}}_{i+1}$, with $\\ddot{\\underline{u}}_{i+1}$, which would imply that the time integrator is no longer explicit.\n",
    "\n",
    "Nonethless, the smallness required for $\\Delta t$ in order to achieve stability in the solution also makes it possible to use a workaround and implement velocity-based viscous dissipation in implicit solvers. Indeed, given the small $\\Delta t$, and considering that the velocity in the domain is a continuous function in time, one can assume that:\n",
    "\n",
    "$$\n",
    "\\dot{\\underline{u}}_{i+1}\n",
    "\\approx\n",
    "\\dot{\\underline{u}}_{i}\n",
    "$$\n",
    "\n",
    "Obviously, the validity of this assumption is reduced upon scenarios in which abrupt changes in velocity occur.\n",
    "\n",
    "Then, using the approximation above, the viscous dissipative term at the instant $t_{i+1}$ can be determined by using the known velocity $\\dot{\\underline{u}}_{i}$ instead. This leaves the governing variational equation as:\n",
    "\n",
    "$$\n",
    "\\int_{\\Omega}\\rho\\,\\ddot{\\underline{u}}_{i+1} (\\underline{x}) \\cdot \\hat{\\underline{u}} (\\underline{x})\\,\\mathrm{d}x\n",
    "=\n",
    "-\n",
    "\\int_{\\Omega} c_{1} \\,\\dot{\\underline{u}}_{i} (\\underline{x}) \\cdot \\hat{\\underline{u}} (\\underline{x}) \\,\\mathrm{d}x\n",
    "- \n",
    "\\int_{\\Omega} \\underline{\\underline{\\sigma}} \\left( \\underline{\\underline{\\varepsilon}}(\\underline{u}_{i+1}, \\underline{x}), \\underline{\\underline{\\varepsilon}}(\\dot{\\underline{u}}_{i}, \\underline{x}) \\right) : \\underline{\\underline{\\varepsilon}}(\\underline{\\hat {u}}, \\underline{x}) \\,\\mathrm{d}x\n",
    "+ \n",
    "\\int_{\\Omega} \\underline{b}_{i+1}(\\underline{x}) \\cdot \\underline{\\hat u}(\\underline{x}) \\,\\mathrm{d}x \n",
    "+ \n",
    "\\int_{\\partial_f \\Omega} {\\underline{f}}_{i+1}(\\underline{x}) \\cdot \\underline{\\hat u}(\\underline{x}) \\,\\mathrm{d}x \n",
    "\\quad \n",
    "\\forall \\underline{\\hat u} \\in \\mathrm{V}_{0}\n",
    "$$"
   ]
  },
  {
   "cell_type": "markdown",
   "id": "2d171e48-8666-4579-ac9a-dbc02e6d63b7",
   "metadata": {},
   "source": [
    "### Lumping of the mass matrix"
   ]
  },
  {
   "cell_type": "markdown",
   "id": "3e4d8ed4-112d-4026-b13c-1608627d03b2",
   "metadata": {},
   "source": [
    "Upon discretization of the continuous equation above using a Finite Element approach, a system of finite number of equations is obtained. This can generally be expressed in matricial form as follows:\n",
    "\n",
    "$$\n",
    "\\underline{\\underline{M}}_{i+1} \\underline{a}_{i+1} \n",
    "= \n",
    "-\n",
    "\\underline{\\underline{C}}_{i+1} \\underline{v}_{i} \n",
    "- \n",
    "\\underline{\\underline{K}}_{i+1} \\underline{u}_{i+1}\n",
    "+\n",
    "\\underline{P}_{i+1}\n",
    "$$\n",
    "\n",
    "where $\\underline{\\underline{M}}$, $\\underline{\\underline{C}}$ and $\\underline{\\underline{K}}$ are the mass, damping and stiffness matrices, respectively, $\\underline{P}$ is the vector of nodal external forces, and $\\underline{a}$, $\\underline{v}$ and $\\underline{u}$ correspondingly stand for the nodal acceleration, velocity and displacement vectors. Note that generally the matrices $\\underline{\\underline{M}}$, $\\underline{\\underline{C}}$ and $\\underline{\\underline{K}}$ and vector $\\underline{P}$ can evolve with time.\n",
    "\n",
    "Consequently, after propagating $\\underline{u}$ to the instant $t_{i+1}$, the nodal acceleration at the instant $\\underline{a}_{i+1}$ can be obtained through the resolution of the following linear system of equations:\n",
    "\n",
    "$$\n",
    "\\underline{a}_{i+1} \n",
    "= \n",
    "\\underline{\\underline{M}}_{i+1}^{-1} \\left(\n",
    "-\n",
    "\\underline{\\underline{C}}_{i+1} \\underline{v}_{i} \n",
    "- \n",
    "\\underline{\\underline{K}}_{i+1} \\underline{u}_{i+1}\n",
    "+\n",
    "\\underline{P}_{i+1} \\right)\n",
    "=\n",
    "\\underline{\\underline{M}}_{i+1}^{-1} \\underline{F}_{i+1}\n",
    "$$\n",
    "\n",
    "where $\\underline{F}$ is a vector that aggregates all the (known) nodal forces, both internal and external. \n",
    "\n",
    "Now, should conventional Finite Element procedures be applied to determine $\\underline{\\underline{M}}$ out of the interpolation functions and the density $\\rho$, the so-called __Consistent Mass matrix__ is obtained. Particularly, this method generates a full matrix in which crossed terms are generally not zero, thus noticeably increasing the computational cost upon fine meshes and/or large simulation times.\n",
    "\n",
    "Instead, most implementations of explicit time integrators for elastodynamic problems make use of the so called __Lumped Mass matrix__, a diagonalized counterpart of the latter, which allows to keep the computational cost reasonable. Different strategies to diagonalize this exist, though the one here implemented is the most straightforward and widely spread. \n",
    "\n",
    "In particular, this approach consists in determining the Lumped Mass matrix $\\underline{\\underline{M_{l}}}$ as that one diagonal generating the same inertial force than $\\underline{\\underline{M}}$ upon unit nodal accelerations (represented these by $\\underline{1}$). Mathematically, this reads as:\n",
    "\n",
    "$$\n",
    "\\underline{\\underline{M_{l}}}\n",
    "=\n",
    "\\left(\\underline{\\underline{M}} \\underline{1}\\right) \\underline{\\underline{I}}\n",
    "$$\n",
    "\n",
    "where $\\underline{\\underline{I}}$ is the identity matrix. Indeed, this operation is equivalent to determining each diagonal component of $\\underline{\\underline{M_{l}}}$ as the sum of all the components in the respective row."
   ]
  }
 ],
 "metadata": {
  "jupytext": {
   "formats": "ipynb,py:percent"
  },
  "kernelspec": {
   "display_name": "Python 3 (ipykernel)",
   "language": "python",
   "name": "python3"
  },
  "language_info": {
   "codemirror_mode": {
    "name": "ipython",
    "version": 3
   },
   "file_extension": ".py",
   "mimetype": "text/x-python",
   "name": "python",
   "nbconvert_exporter": "python",
   "pygments_lexer": "ipython3",
   "version": "3.10.6"
  }
 },
 "nbformat": 4,
 "nbformat_minor": 5
}
