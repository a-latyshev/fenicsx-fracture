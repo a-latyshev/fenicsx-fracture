{
 "cells": [
  {
   "cell_type": "markdown",
   "id": "intimate-mouse",
   "metadata": {},
   "source": [
    "# Finite Elasticity Part I\n",
    "\n",
    "Authors: Jack S. Hale, Corrado Maurini.\n",
    "\n",
    "Uses elements from https://jorgensd.github.io/dolfinx-tutorial/chapter2/hyperelasticity.html under CC BY 4.0\n",
    "\n",
    "## Summary\n",
    "\n",
    "In this notebook we will give an example of solving for the displacement field of a geometrically non-linear bar sagging under its own weight.\n",
    "\n",
    "## Motivation\n",
    "\n",
    "<img src=\"images/mazier_et_al_beam.jpeg\" alt=\"drawing\" width=\"500\"/>\n",
    "\n",
    "The above image shows image shows the *deformed configuration* of an initially straight silicone beam with cylindrical cross-section under its own weight. This material is very soft and quite dense. The resulting rotations and strains are large, so the assumptions made in a geometrically linear elastic model\n",
    "\n",
    " are no longer valid. For sensible predictions we must use the theory of finite elasticity. Source: Mazier et al. https://arxiv.org/abs/2102.13455\n",
    "\n",
    "## Learning objectives\n",
    "\n",
    "1. Briefly revisit the equations of non-linear elasticity.\n",
    "1. Be able to express the Lagrangian of a geometrically non-linear elastic body in the Unified Form Language (UFL) of the FEniCS Project.\n",
    "2. Use the automatic differentiation capabilities to derive symbolic expressions for the residual and Jacobian.\n",
    "2. Understand and implement basic methods for solving non-linear problems in PETSc (Portable, Extensible Toolkit for Scientific Computation).\n",
    "3. See the difference in results between a geometrically linear and non-linear analysis.\n",
    "4. Become aware of the possible effects and solutions to the problem of numerical locking.\n",
    "\n",
    "## Possible extensions\n",
    "\n",
    "1. In class: Change boundary conditions to vertical beam under traction.\n",
    "1. To a three-dimensional analysis.\n",
    "2. Displacement-pressure (mixed) formulation to cure numerical locking."
   ]
  },
  {
   "cell_type": "code",
   "execution_count": 44,
   "id": "subject-chambers",
   "metadata": {},
   "outputs": [],
   "source": [
    "import numpy as np\n",
    "\n",
    "from mpi4py import MPI\n",
    "\n",
    "import dolfinx\n",
    "import dolfinx.plot\n",
    "\n",
    "L = 1.0\n",
    "H = 0.2\n",
    "mesh = dolfinx.RectangleMesh(MPI.COMM_WORLD, [(0.0, 0.0, 0.0), (L, H, 0.0)], [20, 10])\n",
    "\n",
    "V = dolfinx.VectorFunctionSpace(mesh, (\"CG\", 1))\n",
    "\n",
    "def left(x):\n",
    "    #print(x.shape)\n",
    "    #print(x)\n",
    "    is_close = np.isclose(x[0], 0.0)\n",
    "    #print(is_close)\n",
    "    return is_close\n",
    "\n",
    "left_facets = dolfinx.mesh.locate_entities_boundary(mesh, mesh.topology.dim - 1, left)"
   ]
  },
  {
   "cell_type": "code",
   "execution_count": 33,
   "id": "selected-lindsay",
   "metadata": {},
   "outputs": [],
   "source": [
    "from matplotlib.pyplot import imshow\n",
    "import pyvista\n",
    "from pyvista.utilities.xvfb import start_xvfb\n",
    "start_xvfb(wait=0.0)"
   ]
  },
  {
   "cell_type": "code",
   "execution_count": 34,
   "id": "destroyed-truck",
   "metadata": {},
   "outputs": [
    {
     "data": {
      "text/plain": [
       "<matplotlib.image.AxesImage at 0x7f9dcb05bc40>"
      ]
     },
     "execution_count": 34,
     "metadata": {},
     "output_type": "execute_result"
    },
    {
     "data": {
      "image/png": "[encoded data removed]",
      "text/plain": [
       "<Figure size 432x288 with 1 Axes>"
      ]
     },
     "metadata": {
      "needs_background": "light"
     },
     "output_type": "display_data"
    }
   ],
   "source": [
    "p = pyvista.Plotter(window_size=[1024,768])\n",
    "topology, cell_types = dolfinx.plot.create_vtk_topology(mesh, mesh.topology.dim)\n",
    "grid = pyvista.UnstructuredGrid(topology, cell_types, mesh.geometry.x)\n",
    "p.add_mesh(grid)\n",
    "imshow(p.screenshot())"
   ]
  },
  {
   "cell_type": "code",
   "execution_count": null,
   "id": "subjective-brisbane",
   "metadata": {},
   "outputs": [],
   "source": []
  }
 ],
 "metadata": {
  "kernelspec": {
   "display_name": "Python 3",
   "language": "python",
   "name": "python3"
  },
  "language_info": {
   "codemirror_mode": {
    "name": "ipython",
    "version": 3
   },
   "file_extension": ".py",
   "mimetype": "text/x-python",
   "name": "python",
   "nbconvert_exporter": "python",
   "pygments_lexer": "ipython3",
   "version": "3.8.5"
  }
 },
 "nbformat": 4,
 "nbformat_minor": 5
}
